{
  "cells": [
    {
      "cell_type": "code",
      "execution_count": 3,
      "metadata": {
        "colab": {
          "base_uri": "https://localhost:8080/"
        },
        "id": "acgT6EUFHWPO",
        "outputId": "4bb7f975-98a2-45f0-85fe-63fad6a1b17e"
      },
      "outputs": [
        {
          "output_type": "stream",
          "name": "stdout",
          "text": [
            "Requirement already satisfied: pyspark in /usr/local/lib/python3.12/dist-packages (3.5.1)\n",
            "Requirement already satisfied: py4j==0.10.9.7 in /usr/local/lib/python3.12/dist-packages (from pyspark) (0.10.9.7)\n",
            "Requirement already satisfied: shap in /usr/local/lib/python3.12/dist-packages (0.49.1)\n",
            "Requirement already satisfied: numpy in /usr/local/lib/python3.12/dist-packages (from shap) (2.0.2)\n",
            "Requirement already satisfied: scipy in /usr/local/lib/python3.12/dist-packages (from shap) (1.16.2)\n",
            "Requirement already satisfied: scikit-learn in /usr/local/lib/python3.12/dist-packages (from shap) (1.6.1)\n",
            "Requirement already satisfied: pandas in /usr/local/lib/python3.12/dist-packages (from shap) (2.2.2)\n",
            "Requirement already satisfied: tqdm>=4.27.0 in /usr/local/lib/python3.12/dist-packages (from shap) (4.67.1)\n",
            "Requirement already satisfied: packaging>20.9 in /usr/local/lib/python3.12/dist-packages (from shap) (25.0)\n",
            "Requirement already satisfied: slicer==0.0.8 in /usr/local/lib/python3.12/dist-packages (from shap) (0.0.8)\n",
            "Requirement already satisfied: numba>=0.54 in /usr/local/lib/python3.12/dist-packages (from shap) (0.60.0)\n",
            "Requirement already satisfied: cloudpickle in /usr/local/lib/python3.12/dist-packages (from shap) (3.1.1)\n",
            "Requirement already satisfied: typing-extensions in /usr/local/lib/python3.12/dist-packages (from shap) (4.15.0)\n",
            "Requirement already satisfied: llvmlite<0.44,>=0.43.0dev0 in /usr/local/lib/python3.12/dist-packages (from numba>=0.54->shap) (0.43.0)\n",
            "Requirement already satisfied: python-dateutil>=2.8.2 in /usr/local/lib/python3.12/dist-packages (from pandas->shap) (2.9.0.post0)\n",
            "Requirement already satisfied: pytz>=2020.1 in /usr/local/lib/python3.12/dist-packages (from pandas->shap) (2025.2)\n",
            "Requirement already satisfied: tzdata>=2022.7 in /usr/local/lib/python3.12/dist-packages (from pandas->shap) (2025.2)\n",
            "Requirement already satisfied: joblib>=1.2.0 in /usr/local/lib/python3.12/dist-packages (from scikit-learn->shap) (1.5.2)\n",
            "Requirement already satisfied: threadpoolctl>=3.1.0 in /usr/local/lib/python3.12/dist-packages (from scikit-learn->shap) (3.6.0)\n",
            "Requirement already satisfied: six>=1.5 in /usr/local/lib/python3.12/dist-packages (from python-dateutil>=2.8.2->pandas->shap) (1.17.0)\n",
            "Collecting pyod\n",
            "  Downloading pyod-2.0.5-py3-none-any.whl.metadata (46 kB)\n",
            "\u001b[2K     \u001b[90m━━━━━━━━━━━━━━━━━━━━━━━━━━━━━━━━━━━━━━━━\u001b[0m \u001b[32m46.3/46.3 kB\u001b[0m \u001b[31m2.0 MB/s\u001b[0m eta \u001b[36m0:00:00\u001b[0m\n",
            "\u001b[?25hRequirement already satisfied: joblib in /usr/local/lib/python3.12/dist-packages (from pyod) (1.5.2)\n",
            "Requirement already satisfied: matplotlib in /usr/local/lib/python3.12/dist-packages (from pyod) (3.10.0)\n",
            "Requirement already satisfied: numpy>=1.19 in /usr/local/lib/python3.12/dist-packages (from pyod) (2.0.2)\n",
            "Requirement already satisfied: numba>=0.51 in /usr/local/lib/python3.12/dist-packages (from pyod) (0.60.0)\n",
            "Requirement already satisfied: scipy>=1.5.1 in /usr/local/lib/python3.12/dist-packages (from pyod) (1.16.2)\n",
            "Requirement already satisfied: scikit-learn>=0.22.0 in /usr/local/lib/python3.12/dist-packages (from pyod) (1.6.1)\n",
            "Requirement already satisfied: llvmlite<0.44,>=0.43.0dev0 in /usr/local/lib/python3.12/dist-packages (from numba>=0.51->pyod) (0.43.0)\n",
            "Requirement already satisfied: threadpoolctl>=3.1.0 in /usr/local/lib/python3.12/dist-packages (from scikit-learn>=0.22.0->pyod) (3.6.0)\n",
            "Requirement already satisfied: contourpy>=1.0.1 in /usr/local/lib/python3.12/dist-packages (from matplotlib->pyod) (1.3.3)\n",
            "Requirement already satisfied: cycler>=0.10 in /usr/local/lib/python3.12/dist-packages (from matplotlib->pyod) (0.12.1)\n",
            "Requirement already satisfied: fonttools>=4.22.0 in /usr/local/lib/python3.12/dist-packages (from matplotlib->pyod) (4.60.1)\n",
            "Requirement already satisfied: kiwisolver>=1.3.1 in /usr/local/lib/python3.12/dist-packages (from matplotlib->pyod) (1.4.9)\n",
            "Requirement already satisfied: packaging>=20.0 in /usr/local/lib/python3.12/dist-packages (from matplotlib->pyod) (25.0)\n",
            "Requirement already satisfied: pillow>=8 in /usr/local/lib/python3.12/dist-packages (from matplotlib->pyod) (11.3.0)\n",
            "Requirement already satisfied: pyparsing>=2.3.1 in /usr/local/lib/python3.12/dist-packages (from matplotlib->pyod) (3.2.5)\n",
            "Requirement already satisfied: python-dateutil>=2.7 in /usr/local/lib/python3.12/dist-packages (from matplotlib->pyod) (2.9.0.post0)\n",
            "Requirement already satisfied: six>=1.5 in /usr/local/lib/python3.12/dist-packages (from python-dateutil>=2.7->matplotlib->pyod) (1.17.0)\n",
            "Downloading pyod-2.0.5-py3-none-any.whl (200 kB)\n",
            "\u001b[2K   \u001b[90m━━━━━━━━━━━━━━━━━━━━━━━━━━━━━━━━━━━━━━━━\u001b[0m \u001b[32m200.6/200.6 kB\u001b[0m \u001b[31m7.6 MB/s\u001b[0m eta \u001b[36m0:00:00\u001b[0m\n",
            "\u001b[?25hInstalling collected packages: pyod\n",
            "Successfully installed pyod-2.0.5\n",
            "Collecting streamlit\n",
            "  Downloading streamlit-1.50.0-py3-none-any.whl.metadata (9.5 kB)\n",
            "Requirement already satisfied: altair!=5.4.0,!=5.4.1,<6,>=4.0 in /usr/local/lib/python3.12/dist-packages (from streamlit) (5.5.0)\n",
            "Requirement already satisfied: blinker<2,>=1.5.0 in /usr/local/lib/python3.12/dist-packages (from streamlit) (1.9.0)\n",
            "Requirement already satisfied: cachetools<7,>=4.0 in /usr/local/lib/python3.12/dist-packages (from streamlit) (5.5.2)\n",
            "Requirement already satisfied: click<9,>=7.0 in /usr/local/lib/python3.12/dist-packages (from streamlit) (8.3.0)\n",
            "Requirement already satisfied: numpy<3,>=1.23 in /usr/local/lib/python3.12/dist-packages (from streamlit) (2.0.2)\n",
            "Requirement already satisfied: packaging<26,>=20 in /usr/local/lib/python3.12/dist-packages (from streamlit) (25.0)\n",
            "Requirement already satisfied: pandas<3,>=1.4.0 in /usr/local/lib/python3.12/dist-packages (from streamlit) (2.2.2)\n",
            "Requirement already satisfied: pillow<12,>=7.1.0 in /usr/local/lib/python3.12/dist-packages (from streamlit) (11.3.0)\n",
            "Requirement already satisfied: protobuf<7,>=3.20 in /usr/local/lib/python3.12/dist-packages (from streamlit) (5.29.5)\n",
            "Requirement already satisfied: pyarrow>=7.0 in /usr/local/lib/python3.12/dist-packages (from streamlit) (18.1.0)\n",
            "Requirement already satisfied: requests<3,>=2.27 in /usr/local/lib/python3.12/dist-packages (from streamlit) (2.32.4)\n",
            "Requirement already satisfied: tenacity<10,>=8.1.0 in /usr/local/lib/python3.12/dist-packages (from streamlit) (8.5.0)\n",
            "Requirement already satisfied: toml<2,>=0.10.1 in /usr/local/lib/python3.12/dist-packages (from streamlit) (0.10.2)\n",
            "Requirement already satisfied: typing-extensions<5,>=4.4.0 in /usr/local/lib/python3.12/dist-packages (from streamlit) (4.15.0)\n",
            "Requirement already satisfied: watchdog<7,>=2.1.5 in /usr/local/lib/python3.12/dist-packages (from streamlit) (6.0.0)\n",
            "Requirement already satisfied: gitpython!=3.1.19,<4,>=3.0.7 in /usr/local/lib/python3.12/dist-packages (from streamlit) (3.1.45)\n",
            "Collecting pydeck<1,>=0.8.0b4 (from streamlit)\n",
            "  Downloading pydeck-0.9.1-py2.py3-none-any.whl.metadata (4.1 kB)\n",
            "Requirement already satisfied: tornado!=6.5.0,<7,>=6.0.3 in /usr/local/lib/python3.12/dist-packages (from streamlit) (6.5.1)\n",
            "Requirement already satisfied: jinja2 in /usr/local/lib/python3.12/dist-packages (from altair!=5.4.0,!=5.4.1,<6,>=4.0->streamlit) (3.1.6)\n",
            "Requirement already satisfied: jsonschema>=3.0 in /usr/local/lib/python3.12/dist-packages (from altair!=5.4.0,!=5.4.1,<6,>=4.0->streamlit) (4.25.1)\n",
            "Requirement already satisfied: narwhals>=1.14.2 in /usr/local/lib/python3.12/dist-packages (from altair!=5.4.0,!=5.4.1,<6,>=4.0->streamlit) (2.8.0)\n",
            "Requirement already satisfied: gitdb<5,>=4.0.1 in /usr/local/lib/python3.12/dist-packages (from gitpython!=3.1.19,<4,>=3.0.7->streamlit) (4.0.12)\n",
            "Requirement already satisfied: python-dateutil>=2.8.2 in /usr/local/lib/python3.12/dist-packages (from pandas<3,>=1.4.0->streamlit) (2.9.0.post0)\n",
            "Requirement already satisfied: pytz>=2020.1 in /usr/local/lib/python3.12/dist-packages (from pandas<3,>=1.4.0->streamlit) (2025.2)\n",
            "Requirement already satisfied: tzdata>=2022.7 in /usr/local/lib/python3.12/dist-packages (from pandas<3,>=1.4.0->streamlit) (2025.2)\n",
            "Requirement already satisfied: charset_normalizer<4,>=2 in /usr/local/lib/python3.12/dist-packages (from requests<3,>=2.27->streamlit) (3.4.4)\n",
            "Requirement already satisfied: idna<4,>=2.5 in /usr/local/lib/python3.12/dist-packages (from requests<3,>=2.27->streamlit) (3.11)\n",
            "Requirement already satisfied: urllib3<3,>=1.21.1 in /usr/local/lib/python3.12/dist-packages (from requests<3,>=2.27->streamlit) (2.5.0)\n",
            "Requirement already satisfied: certifi>=2017.4.17 in /usr/local/lib/python3.12/dist-packages (from requests<3,>=2.27->streamlit) (2025.10.5)\n",
            "Requirement already satisfied: smmap<6,>=3.0.1 in /usr/local/lib/python3.12/dist-packages (from gitdb<5,>=4.0.1->gitpython!=3.1.19,<4,>=3.0.7->streamlit) (5.0.2)\n",
            "Requirement already satisfied: MarkupSafe>=2.0 in /usr/local/lib/python3.12/dist-packages (from jinja2->altair!=5.4.0,!=5.4.1,<6,>=4.0->streamlit) (3.0.3)\n",
            "Requirement already satisfied: attrs>=22.2.0 in /usr/local/lib/python3.12/dist-packages (from jsonschema>=3.0->altair!=5.4.0,!=5.4.1,<6,>=4.0->streamlit) (25.4.0)\n",
            "Requirement already satisfied: jsonschema-specifications>=2023.03.6 in /usr/local/lib/python3.12/dist-packages (from jsonschema>=3.0->altair!=5.4.0,!=5.4.1,<6,>=4.0->streamlit) (2025.9.1)\n",
            "Requirement already satisfied: referencing>=0.28.4 in /usr/local/lib/python3.12/dist-packages (from jsonschema>=3.0->altair!=5.4.0,!=5.4.1,<6,>=4.0->streamlit) (0.37.0)\n",
            "Requirement already satisfied: rpds-py>=0.7.1 in /usr/local/lib/python3.12/dist-packages (from jsonschema>=3.0->altair!=5.4.0,!=5.4.1,<6,>=4.0->streamlit) (0.27.1)\n",
            "Requirement already satisfied: six>=1.5 in /usr/local/lib/python3.12/dist-packages (from python-dateutil>=2.8.2->pandas<3,>=1.4.0->streamlit) (1.17.0)\n",
            "Downloading streamlit-1.50.0-py3-none-any.whl (10.1 MB)\n",
            "\u001b[2K   \u001b[90m━━━━━━━━━━━━━━━━━━━━━━━━━━━━━━━━━━━━━━━━\u001b[0m \u001b[32m10.1/10.1 MB\u001b[0m \u001b[31m60.6 MB/s\u001b[0m eta \u001b[36m0:00:00\u001b[0m\n",
            "\u001b[?25hDownloading pydeck-0.9.1-py2.py3-none-any.whl (6.9 MB)\n",
            "\u001b[2K   \u001b[90m━━━━━━━━━━━━━━━━━━━━━━━━━━━━━━━━━━━━━━━━\u001b[0m \u001b[32m6.9/6.9 MB\u001b[0m \u001b[31m88.7 MB/s\u001b[0m eta \u001b[36m0:00:00\u001b[0m\n",
            "\u001b[?25hInstalling collected packages: pydeck, streamlit\n",
            "Successfully installed pydeck-0.9.1 streamlit-1.50.0\n"
          ]
        }
      ],
      "source": [
        "!pip install pyspark\n",
        "!pip install shap\n",
        "!pip install pyod\n",
        "!pip install streamlit"
      ]
    },
    {
      "cell_type": "code",
      "execution_count": 4,
      "metadata": {
        "id": "odo0f_3CKa8d"
      },
      "outputs": [],
      "source": [
        "# Data manipulation and analysis\n",
        "import pandas as pd\n",
        "import numpy as np\n",
        "\n",
        "# Visualization\n",
        "import matplotlib.pyplot as plt\n",
        "import seaborn as sns\n",
        "\n",
        "# Preprocessing\n",
        "from sklearn.preprocessing import StandardScaler, LabelEncoder\n",
        "from sklearn.model_selection import train_test_split, GridSearchCV\n",
        "\n",
        "# Unsupervised ML models from PyOD\n",
        "from pyod.models.iforest import IForest\n",
        "from pyod.models.knn import KNN\n",
        "from pyod.models.lof import LOF\n",
        "\n",
        "# Metrics and Evaluation\n",
        "from sklearn import metrics\n",
        "from sklearn.metrics import (make_scorer, classification_report, confusion_matrix,\n",
        "                            precision_score, recall_score, f1_score,\n",
        "                            roc_auc_score, precision_recall_curve, roc_curve)\n",
        "\n",
        "# Explainable AI\n",
        "import shap\n",
        "\n",
        "# Model storage\n",
        "import joblib\n",
        "\n",
        "# Model Deployment\n",
        "import streamlit as st\n",
        "\n",
        "# Display settings\n",
        "pd.set_option('display.max_columns', None)\n",
        "\n",
        "# Warnings\n",
        "import warnings\n",
        "warnings.filterwarnings('ignore')"
      ]
    },
    {
      "cell_type": "code",
      "source": [
        "import sklearn\n",
        "print(sklearn.__version__)"
      ],
      "metadata": {
        "colab": {
          "base_uri": "https://localhost:8080/"
        },
        "id": "IpaLk-r4AL8g",
        "outputId": "72b96245-de53-40a8-c6a0-2b45fcd721f5"
      },
      "execution_count": 7,
      "outputs": [
        {
          "output_type": "stream",
          "name": "stdout",
          "text": [
            "1.6.1\n"
          ]
        }
      ]
    },
    {
      "cell_type": "markdown",
      "metadata": {
        "id": "gspeGz0-OTbq"
      },
      "source": [
        "### A) Data Ingestion\n",
        "\n"
      ]
    },
    {
      "cell_type": "code",
      "execution_count": 3,
      "metadata": {
        "colab": {
          "base_uri": "https://localhost:8080/",
          "height": 90
        },
        "id": "BbxzB0GugyYT",
        "outputId": "9acce4aa-407a-400e-ddb3-0e95968cfaf5"
      },
      "outputs": [
        {
          "output_type": "display_data",
          "data": {
            "text/plain": [
              "<IPython.core.display.HTML object>"
            ],
            "text/html": [
              "\n",
              "     <input type=\"file\" id=\"files-a872b78d-2fd6-4f3b-9500-27be6664080f\" name=\"files[]\" multiple disabled\n",
              "        style=\"border:none\" />\n",
              "     <output id=\"result-a872b78d-2fd6-4f3b-9500-27be6664080f\">\n",
              "      Upload widget is only available when the cell has been executed in the\n",
              "      current browser session. Please rerun this cell to enable.\n",
              "      </output>\n",
              "      <script>// Copyright 2017 Google LLC\n",
              "//\n",
              "// Licensed under the Apache License, Version 2.0 (the \"License\");\n",
              "// you may not use this file except in compliance with the License.\n",
              "// You may obtain a copy of the License at\n",
              "//\n",
              "//      http://www.apache.org/licenses/LICENSE-2.0\n",
              "//\n",
              "// Unless required by applicable law or agreed to in writing, software\n",
              "// distributed under the License is distributed on an \"AS IS\" BASIS,\n",
              "// WITHOUT WARRANTIES OR CONDITIONS OF ANY KIND, either express or implied.\n",
              "// See the License for the specific language governing permissions and\n",
              "// limitations under the License.\n",
              "\n",
              "/**\n",
              " * @fileoverview Helpers for google.colab Python module.\n",
              " */\n",
              "(function(scope) {\n",
              "function span(text, styleAttributes = {}) {\n",
              "  const element = document.createElement('span');\n",
              "  element.textContent = text;\n",
              "  for (const key of Object.keys(styleAttributes)) {\n",
              "    element.style[key] = styleAttributes[key];\n",
              "  }\n",
              "  return element;\n",
              "}\n",
              "\n",
              "// Max number of bytes which will be uploaded at a time.\n",
              "const MAX_PAYLOAD_SIZE = 100 * 1024;\n",
              "\n",
              "function _uploadFiles(inputId, outputId) {\n",
              "  const steps = uploadFilesStep(inputId, outputId);\n",
              "  const outputElement = document.getElementById(outputId);\n",
              "  // Cache steps on the outputElement to make it available for the next call\n",
              "  // to uploadFilesContinue from Python.\n",
              "  outputElement.steps = steps;\n",
              "\n",
              "  return _uploadFilesContinue(outputId);\n",
              "}\n",
              "\n",
              "// This is roughly an async generator (not supported in the browser yet),\n",
              "// where there are multiple asynchronous steps and the Python side is going\n",
              "// to poll for completion of each step.\n",
              "// This uses a Promise to block the python side on completion of each step,\n",
              "// then passes the result of the previous step as the input to the next step.\n",
              "function _uploadFilesContinue(outputId) {\n",
              "  const outputElement = document.getElementById(outputId);\n",
              "  const steps = outputElement.steps;\n",
              "\n",
              "  const next = steps.next(outputElement.lastPromiseValue);\n",
              "  return Promise.resolve(next.value.promise).then((value) => {\n",
              "    // Cache the last promise value to make it available to the next\n",
              "    // step of the generator.\n",
              "    outputElement.lastPromiseValue = value;\n",
              "    return next.value.response;\n",
              "  });\n",
              "}\n",
              "\n",
              "/**\n",
              " * Generator function which is called between each async step of the upload\n",
              " * process.\n",
              " * @param {string} inputId Element ID of the input file picker element.\n",
              " * @param {string} outputId Element ID of the output display.\n",
              " * @return {!Iterable<!Object>} Iterable of next steps.\n",
              " */\n",
              "function* uploadFilesStep(inputId, outputId) {\n",
              "  const inputElement = document.getElementById(inputId);\n",
              "  inputElement.disabled = false;\n",
              "\n",
              "  const outputElement = document.getElementById(outputId);\n",
              "  outputElement.innerHTML = '';\n",
              "\n",
              "  const pickedPromise = new Promise((resolve) => {\n",
              "    inputElement.addEventListener('change', (e) => {\n",
              "      resolve(e.target.files);\n",
              "    });\n",
              "  });\n",
              "\n",
              "  const cancel = document.createElement('button');\n",
              "  inputElement.parentElement.appendChild(cancel);\n",
              "  cancel.textContent = 'Cancel upload';\n",
              "  const cancelPromise = new Promise((resolve) => {\n",
              "    cancel.onclick = () => {\n",
              "      resolve(null);\n",
              "    };\n",
              "  });\n",
              "\n",
              "  // Wait for the user to pick the files.\n",
              "  const files = yield {\n",
              "    promise: Promise.race([pickedPromise, cancelPromise]),\n",
              "    response: {\n",
              "      action: 'starting',\n",
              "    }\n",
              "  };\n",
              "\n",
              "  cancel.remove();\n",
              "\n",
              "  // Disable the input element since further picks are not allowed.\n",
              "  inputElement.disabled = true;\n",
              "\n",
              "  if (!files) {\n",
              "    return {\n",
              "      response: {\n",
              "        action: 'complete',\n",
              "      }\n",
              "    };\n",
              "  }\n",
              "\n",
              "  for (const file of files) {\n",
              "    const li = document.createElement('li');\n",
              "    li.append(span(file.name, {fontWeight: 'bold'}));\n",
              "    li.append(span(\n",
              "        `(${file.type || 'n/a'}) - ${file.size} bytes, ` +\n",
              "        `last modified: ${\n",
              "            file.lastModifiedDate ? file.lastModifiedDate.toLocaleDateString() :\n",
              "                                    'n/a'} - `));\n",
              "    const percent = span('0% done');\n",
              "    li.appendChild(percent);\n",
              "\n",
              "    outputElement.appendChild(li);\n",
              "\n",
              "    const fileDataPromise = new Promise((resolve) => {\n",
              "      const reader = new FileReader();\n",
              "      reader.onload = (e) => {\n",
              "        resolve(e.target.result);\n",
              "      };\n",
              "      reader.readAsArrayBuffer(file);\n",
              "    });\n",
              "    // Wait for the data to be ready.\n",
              "    let fileData = yield {\n",
              "      promise: fileDataPromise,\n",
              "      response: {\n",
              "        action: 'continue',\n",
              "      }\n",
              "    };\n",
              "\n",
              "    // Use a chunked sending to avoid message size limits. See b/62115660.\n",
              "    let position = 0;\n",
              "    do {\n",
              "      const length = Math.min(fileData.byteLength - position, MAX_PAYLOAD_SIZE);\n",
              "      const chunk = new Uint8Array(fileData, position, length);\n",
              "      position += length;\n",
              "\n",
              "      const base64 = btoa(String.fromCharCode.apply(null, chunk));\n",
              "      yield {\n",
              "        response: {\n",
              "          action: 'append',\n",
              "          file: file.name,\n",
              "          data: base64,\n",
              "        },\n",
              "      };\n",
              "\n",
              "      let percentDone = fileData.byteLength === 0 ?\n",
              "          100 :\n",
              "          Math.round((position / fileData.byteLength) * 100);\n",
              "      percent.textContent = `${percentDone}% done`;\n",
              "\n",
              "    } while (position < fileData.byteLength);\n",
              "  }\n",
              "\n",
              "  // All done.\n",
              "  yield {\n",
              "    response: {\n",
              "      action: 'complete',\n",
              "    }\n",
              "  };\n",
              "}\n",
              "\n",
              "scope.google = scope.google || {};\n",
              "scope.google.colab = scope.google.colab || {};\n",
              "scope.google.colab._files = {\n",
              "  _uploadFiles,\n",
              "  _uploadFilesContinue,\n",
              "};\n",
              "})(self);\n",
              "</script> "
            ]
          },
          "metadata": {}
        },
        {
          "output_type": "stream",
          "name": "stdout",
          "text": [
            "Saving kaggle.json to kaggle.json\n"
          ]
        },
        {
          "output_type": "execute_result",
          "data": {
            "text/plain": [
              "{'kaggle.json': b'{\"username\":\"ramyavijayalayan\",\"key\":\"6fbbc7bcde80b741ae1e038472f754b6\"}'}"
            ]
          },
          "metadata": {},
          "execution_count": 3
        }
      ],
      "source": [
        "from google.colab import files\n",
        "files.upload()"
      ]
    },
    {
      "cell_type": "code",
      "execution_count": 4,
      "metadata": {
        "id": "JwEJjYBylaS3"
      },
      "outputs": [],
      "source": [
        "# Configuring Kaggle CLI\n",
        "!mkdir -p ~/.kaggle\n",
        "!cp kaggle.json ~/.kaggle/\n",
        "!chmod 600 ~/.kaggle/kaggle.json"
      ]
    },
    {
      "cell_type": "code",
      "execution_count": 5,
      "metadata": {
        "colab": {
          "base_uri": "https://localhost:8080/"
        },
        "id": "3BV_UNhIllBt",
        "outputId": "8a474fc0-2f57-4504-dd4e-eb73d6399480"
      },
      "outputs": [
        {
          "output_type": "stream",
          "name": "stdout",
          "text": [
            "Dataset URL: https://www.kaggle.com/datasets/ealaxi/paysim1\n",
            "License(s): CC-BY-SA-4.0\n",
            "Downloading paysim1.zip to /content\n",
            " 78% 139M/178M [00:00<00:00, 1.44GB/s]\n",
            "100% 178M/178M [00:00<00:00, 1.15GB/s]\n",
            "Archive:  paysim1.zip\n",
            "  inflating: PS_20174392719_1491204439457_log.csv  \n"
          ]
        }
      ],
      "source": [
        "!kaggle datasets download -d ealaxi/paysim1\n",
        "!unzip paysim1.zip"
      ]
    },
    {
      "cell_type": "code",
      "execution_count": 6,
      "metadata": {
        "id": "y4QpMvUed4AN"
      },
      "outputs": [],
      "source": [
        "from pyspark.sql import SparkSession\n",
        "\n",
        "spark = SparkSession.builder.appName('AnomalyDetectionPipeline').getOrCreate()\n",
        "df_spark = spark.read.csv('/content/PS_20174392719_1491204439457_log.csv', header = True, inferSchema = True)\n",
        "df_spark.createOrReplaceTempView('paysim')"
      ]
    },
    {
      "cell_type": "markdown",
      "metadata": {
        "id": "iJ6mfqWwPhcp"
      },
      "source": [
        "### B) Exploratory Data Analysis - EDA"
      ]
    },
    {
      "cell_type": "code",
      "execution_count": 7,
      "metadata": {
        "colab": {
          "base_uri": "https://localhost:8080/"
        },
        "id": "Wjbt2W1uOceK",
        "outputId": "77b41231-d88d-49da-a02f-b2073d32b6f1"
      },
      "outputs": [
        {
          "output_type": "stream",
          "name": "stdout",
          "text": [
            "+----+--------+--------+-----------+-------------+--------------+-----------+--------------+--------------+-------+--------------+\n",
            "|step|    type|  amount|   nameOrig|oldbalanceOrg|newbalanceOrig|   nameDest|oldbalanceDest|newbalanceDest|isFraud|isFlaggedFraud|\n",
            "+----+--------+--------+-----------+-------------+--------------+-----------+--------------+--------------+-------+--------------+\n",
            "|   1| PAYMENT| 9839.64|C1231006815|     170136.0|     160296.36|M1979787155|           0.0|           0.0|      0|             0|\n",
            "|   1| PAYMENT| 1864.28|C1666544295|      21249.0|      19384.72|M2044282225|           0.0|           0.0|      0|             0|\n",
            "|   1|TRANSFER|   181.0|C1305486145|        181.0|           0.0| C553264065|           0.0|           0.0|      1|             0|\n",
            "|   1|CASH_OUT|   181.0| C840083671|        181.0|           0.0|  C38997010|       21182.0|           0.0|      1|             0|\n",
            "|   1| PAYMENT|11668.14|C2048537720|      41554.0|      29885.86|M1230701703|           0.0|           0.0|      0|             0|\n",
            "|   1| PAYMENT| 7817.71|  C90045638|      53860.0|      46042.29| M573487274|           0.0|           0.0|      0|             0|\n",
            "|   1| PAYMENT| 7107.77| C154988899|     183195.0|     176087.23| M408069119|           0.0|           0.0|      0|             0|\n",
            "|   1| PAYMENT| 7861.64|C1912850431|    176087.23|     168225.59| M633326333|           0.0|           0.0|      0|             0|\n",
            "|   1| PAYMENT| 4024.36|C1265012928|       2671.0|           0.0|M1176932104|           0.0|           0.0|      0|             0|\n",
            "|   1|   DEBIT| 5337.77| C712410124|      41720.0|      36382.23| C195600860|       41898.0|      40348.79|      0|             0|\n",
            "+----+--------+--------+-----------+-------------+--------------+-----------+--------------+--------------+-------+--------------+\n",
            "only showing top 10 rows\n",
            "\n"
          ]
        }
      ],
      "source": [
        "df_spark.show(10)"
      ]
    },
    {
      "cell_type": "code",
      "execution_count": 8,
      "metadata": {
        "colab": {
          "base_uri": "https://localhost:8080/"
        },
        "id": "DJlujjcmpC-_",
        "outputId": "f1a95158-4366-42c2-e10f-3e9c306e1a02"
      },
      "outputs": [
        {
          "output_type": "execute_result",
          "data": {
            "text/plain": [
              "6362620"
            ]
          },
          "metadata": {},
          "execution_count": 8
        }
      ],
      "source": [
        "df_spark.count()"
      ]
    },
    {
      "cell_type": "code",
      "execution_count": 9,
      "metadata": {
        "colab": {
          "base_uri": "https://localhost:8080/"
        },
        "id": "mY7DhKs7m7ye",
        "outputId": "7de213a5-d36e-42e9-fb73-c4dfd90a5db5"
      },
      "outputs": [
        {
          "output_type": "stream",
          "name": "stdout",
          "text": [
            "root\n",
            " |-- step: integer (nullable = true)\n",
            " |-- type: string (nullable = true)\n",
            " |-- amount: double (nullable = true)\n",
            " |-- nameOrig: string (nullable = true)\n",
            " |-- oldbalanceOrg: double (nullable = true)\n",
            " |-- newbalanceOrig: double (nullable = true)\n",
            " |-- nameDest: string (nullable = true)\n",
            " |-- oldbalanceDest: double (nullable = true)\n",
            " |-- newbalanceDest: double (nullable = true)\n",
            " |-- isFraud: integer (nullable = true)\n",
            " |-- isFlaggedFraud: integer (nullable = true)\n",
            "\n"
          ]
        }
      ],
      "source": [
        "df_spark.printSchema()"
      ]
    },
    {
      "cell_type": "code",
      "execution_count": 10,
      "metadata": {
        "colab": {
          "base_uri": "https://localhost:8080/"
        },
        "id": "bBOkL77joofh",
        "outputId": "1ba41a8a-115a-485f-c86c-b75a00549f72"
      },
      "outputs": [
        {
          "output_type": "stream",
          "name": "stdout",
          "text": [
            "+-------+------------------+--------+-----------------+-----------+-----------------+------------------+-----------+------------------+------------------+--------------------+--------------------+\n",
            "|summary|              step|    type|           amount|   nameOrig|    oldbalanceOrg|    newbalanceOrig|   nameDest|    oldbalanceDest|    newbalanceDest|             isFraud|      isFlaggedFraud|\n",
            "+-------+------------------+--------+-----------------+-----------+-----------------+------------------+-----------+------------------+------------------+--------------------+--------------------+\n",
            "|  count|           6362620| 6362620|          6362620|    6362620|          6362620|           6362620|    6362620|           6362620|           6362620|             6362620|             6362620|\n",
            "|   mean|243.39724563151657|    NULL|179861.9035491287|       NULL|833883.1040744764| 855113.6685785812|       NULL|1100701.6665196533|1224996.3982019224|0.001290820448180152| 2.51468734577894E-6|\n",
            "| stddev|142.33197104913066|    NULL|603858.2314629209|       NULL|2888242.673037527|2924048.5029542595|       NULL|3399180.1129944525|3674128.9421196915|0.035904796801604424|0.001585774705736...|\n",
            "|    min|                 1| CASH_IN|              0.0|C1000000639|              0.0|               0.0|C1000004082|               0.0|               0.0|                   0|                   0|\n",
            "|    max|               743|TRANSFER|    9.244551664E7| C999999784|    5.958504037E7|     4.958504037E7| M999999784|    3.5601588935E8|    3.5617927892E8|                   1|                   1|\n",
            "+-------+------------------+--------+-----------------+-----------+-----------------+------------------+-----------+------------------+------------------+--------------------+--------------------+\n",
            "\n"
          ]
        }
      ],
      "source": [
        "df_spark.describe().show()"
      ]
    },
    {
      "cell_type": "code",
      "execution_count": 11,
      "metadata": {
        "colab": {
          "base_uri": "https://localhost:8080/"
        },
        "id": "Kdo_-fuOpKnh",
        "outputId": "82256417-d8fe-41b8-e526-3545e55f8e9b"
      },
      "outputs": [
        {
          "output_type": "stream",
          "name": "stdout",
          "text": [
            "+----+----+------+--------+-------------+--------------+--------+--------------+--------------+-------+--------------+\n",
            "|step|type|amount|nameOrig|oldbalanceOrg|newbalanceOrig|nameDest|oldbalanceDest|newbalanceDest|isFraud|isFlaggedFraud|\n",
            "+----+----+------+--------+-------------+--------------+--------+--------------+--------------+-------+--------------+\n",
            "+----+----+------+--------+-------------+--------------+--------+--------------+--------------+-------+--------------+\n",
            "\n"
          ]
        }
      ],
      "source": [
        "df_spark.createOrReplaceTempView('paysim')\n",
        "spark.sql(\"\"\"select * from paysim group by step, type, amount, nameOrig, oldBalanceOrg, newbalanceOrig, nameDest, oldbalanceDest, newbalanceDest, isFraud, isFlaggedFraud having count(*)>1 \"\"\").show()"
      ]
    },
    {
      "cell_type": "code",
      "execution_count": 12,
      "metadata": {
        "colab": {
          "base_uri": "https://localhost:8080/"
        },
        "id": "SsKqw3OcuEOd",
        "outputId": "133d3ba0-d6ab-4bcf-e0c2-daeafef6a0d1"
      },
      "outputs": [
        {
          "output_type": "stream",
          "name": "stdout",
          "text": [
            "+---------+---------+-----------+-------------+------------------+-------------------+-------------+--------------+-------------------+------------+-------------------+\n",
            "|null_step|null_type|null_amount|null_nameOrig|null_oldbalanceOrg|null_newbalanceOrig|null_nameDest|oldbalanceDest|null_newbalanceDest|null_isFraud|null_isFlaggedFraud|\n",
            "+---------+---------+-----------+-------------+------------------+-------------------+-------------+--------------+-------------------+------------+-------------------+\n",
            "|        0|        0|          0|            0|                 0|                  0|            0|             0|                  0|           0|                  0|\n",
            "+---------+---------+-----------+-------------+------------------+-------------------+-------------+--------------+-------------------+------------+-------------------+\n",
            "\n"
          ]
        }
      ],
      "source": [
        "# Checking for nulls\n",
        "spark.sql(\"\"\"\n",
        "          select sum(case when step is null then 1 else 0 end) as null_step,\n",
        "               sum(case when type is null then 1 else 0 end) as null_type,\n",
        "               sum(case when amount is null then 1 else 0 end) as null_amount,\n",
        "               sum(case when nameOrig is null then 1 else 0 end) as null_nameOrig,\n",
        "               sum(case when oldbalanceOrg is null then 1 else 0 end) as null_oldbalanceOrg,\n",
        "               sum(case when newbalanceOrig is null then 1 else 0 end) as null_newbalanceOrig,\n",
        "               sum(case when nameDest is null then 1 else 0 end) as null_nameDest,\n",
        "               sum(case when oldbalanceDest is null then 1 else 0 end) as oldbalanceDest,\n",
        "               sum(case when newbalanceDest is null then 1 else 0 end) as null_newbalanceDest,\n",
        "               sum(case when isFraud is null then 1 else 0 end) as null_isFraud,\n",
        "               sum(case when isFlaggedFraud is null then 1 else 0 end) as null_isFlaggedFraud\n",
        "               from paysim\n",
        "          \"\"\").show()"
      ]
    },
    {
      "cell_type": "code",
      "execution_count": 13,
      "metadata": {
        "colab": {
          "base_uri": "https://localhost:8080/"
        },
        "id": "n3OEJLW_vnjz",
        "outputId": "47024c1b-dbc8-4d1b-de3b-feff24429188"
      },
      "outputs": [
        {
          "output_type": "stream",
          "name": "stdout",
          "text": [
            "+--------+-------+\n",
            "|    type|  count|\n",
            "+--------+-------+\n",
            "|CASH_OUT|2237500|\n",
            "| PAYMENT|2151495|\n",
            "| CASH_IN|1399284|\n",
            "|TRANSFER| 532909|\n",
            "|   DEBIT|  41432|\n",
            "+--------+-------+\n",
            "\n",
            "+--------------+-------+\n",
            "|isFlaggedFraud|  count|\n",
            "+--------------+-------+\n",
            "|             0|6362604|\n",
            "|             1|     16|\n",
            "+--------------+-------+\n",
            "\n",
            "+-------+-------+\n",
            "|isFraud|  count|\n",
            "+-------+-------+\n",
            "|      1|   8213|\n",
            "|      0|6354407|\n",
            "+-------+-------+\n",
            "\n"
          ]
        }
      ],
      "source": [
        "# Count of each category\n",
        "df_spark.groupBy('type').count().orderBy('count', ascending = False).show()\n",
        "df_spark.groupBy('isFlaggedFraud').count().show()\n",
        "df_spark.groupBy('isFraud').count().show()"
      ]
    },
    {
      "cell_type": "code",
      "execution_count": 14,
      "metadata": {
        "id": "BF1WTvANw7gf"
      },
      "outputs": [],
      "source": [
        "# isFlaggedFraud is rule-based and doesn't help with modeling and predictions\n",
        "df_spark = df_spark.drop('isFlaggedFraud')"
      ]
    },
    {
      "cell_type": "code",
      "execution_count": 15,
      "metadata": {
        "id": "6fxBXm6G16eT"
      },
      "outputs": [],
      "source": [
        "df_spark.createOrReplaceTempView('paysim')"
      ]
    },
    {
      "cell_type": "markdown",
      "metadata": {
        "id": "Tp6ppkPx2btO"
      },
      "source": [
        "### **C) Feature Engineering**"
      ]
    },
    {
      "cell_type": "code",
      "execution_count": 16,
      "metadata": {
        "colab": {
          "base_uri": "https://localhost:8080/"
        },
        "id": "TdMJif9T2-ly",
        "outputId": "ececc224-935f-45fa-8a37-60bcf72e7402"
      },
      "outputs": [
        {
          "output_type": "stream",
          "name": "stdout",
          "text": [
            "+----+--------+--------+-----------+-------------+--------------+-----------+--------------+--------------+-------+------------------+-----------------+-----------------------+---------------+\n",
            "|step|    type|  amount|   nameOrig|oldbalanceOrg|newbalanceOrig|   nameDest|oldbalanceDest|newbalanceDest|isFraud| balance_diff_orig|balance_diff_dest|amount_to_balance_ratio|is_zero_balance|\n",
            "+----+--------+--------+-----------+-------------+--------------+-----------+--------------+--------------+-------+------------------+-----------------+-----------------------+---------------+\n",
            "|   1| PAYMENT| 9839.64|C1231006815|     170136.0|     160296.36|M1979787155|           0.0|           0.0|      0| 9839.640000000014|              0.0|   0.057833968119621944|              0|\n",
            "|   1| PAYMENT| 1864.28|C1666544295|      21249.0|      19384.72|M2044282225|           0.0|           0.0|      0|1864.2799999999988|              0.0|    0.08773495223304625|              0|\n",
            "|   1|TRANSFER|   181.0|C1305486145|        181.0|           0.0| C553264065|           0.0|           0.0|      1|             181.0|              0.0|                    1.0|              0|\n",
            "|   1|CASH_OUT|   181.0| C840083671|        181.0|           0.0|  C38997010|       21182.0|           0.0|      1|             181.0|          21182.0|                    1.0|              0|\n",
            "|   1| PAYMENT|11668.14|C2048537720|      41554.0|      29885.86|M1230701703|           0.0|           0.0|      0|          11668.14|              0.0|    0.28079462867593974|              0|\n",
            "+----+--------+--------+-----------+-------------+--------------+-----------+--------------+--------------+-------+------------------+-----------------+-----------------------+---------------+\n",
            "only showing top 5 rows\n",
            "\n"
          ]
        }
      ],
      "source": [
        "from pyspark.sql.functions import col, when, lit\n",
        "\n",
        "# Balance change for origin account\n",
        "df_spark = df_spark.withColumn('balance_diff_orig', col('oldbalanceOrg') - col('newbalanceOrig'))\n",
        "\n",
        "# Balance Change for destination account\n",
        "df_spark = df_spark.withColumn('balance_diff_dest' , col('oldbalanceDest') - col('newbalanceDest'))\n",
        "\n",
        "# Transaction Amount to Account balance ratio\n",
        "df_spark = df_spark.withColumn('amount_to_balance_ratio', col('amount')/ when(col('oldbalanceOrg') !=0, col('oldbalanceOrg')).otherwise(lit(1e-6)))\n",
        "\n",
        "# Is_Zero_balance flag\n",
        "df_spark = df_spark.withColumn('is_zero_balance', when(col('oldbalanceOrg') == 0, 1).otherwise(0) )\n",
        "\n",
        "df_spark.show(5)\n",
        "df_spark.createOrReplaceTempView('paysim')"
      ]
    },
    {
      "cell_type": "code",
      "execution_count": 17,
      "metadata": {
        "colab": {
          "base_uri": "https://localhost:8080/"
        },
        "id": "Uxh3ysCmRAIN",
        "outputId": "3350784b-297b-4d16-b5d9-dc0b4d1ccb25"
      },
      "outputs": [
        {
          "output_type": "stream",
          "name": "stdout",
          "text": [
            "+----+--------+--------+-----------+-------------+--------------+-----------+--------------+--------------+-------+------------------+-----------------+-----------------------+---------------+---------------+---------------+----------+\n",
            "|step|    type|  amount|   nameOrig|oldbalanceOrg|newbalanceOrig|   nameDest|oldbalanceDest|newbalanceDest|isFraud| balance_diff_orig|balance_diff_dest|amount_to_balance_ratio|is_zero_balance|hour_of_the_day|day_of_the_week|is_weekend|\n",
            "+----+--------+--------+-----------+-------------+--------------+-----------+--------------+--------------+-------+------------------+-----------------+-----------------------+---------------+---------------+---------------+----------+\n",
            "|   1| PAYMENT| 9839.64|C1231006815|     170136.0|     160296.36|M1979787155|           0.0|           0.0|      0| 9839.640000000014|              0.0|   0.057833968119621944|              0|              1|              0|         0|\n",
            "|   1| PAYMENT| 1864.28|C1666544295|      21249.0|      19384.72|M2044282225|           0.0|           0.0|      0|1864.2799999999988|              0.0|    0.08773495223304625|              0|              1|              0|         0|\n",
            "|   1|TRANSFER|   181.0|C1305486145|        181.0|           0.0| C553264065|           0.0|           0.0|      1|             181.0|              0.0|                    1.0|              0|              1|              0|         0|\n",
            "|   1|CASH_OUT|   181.0| C840083671|        181.0|           0.0|  C38997010|       21182.0|           0.0|      1|             181.0|          21182.0|                    1.0|              0|              1|              0|         0|\n",
            "|   1| PAYMENT|11668.14|C2048537720|      41554.0|      29885.86|M1230701703|           0.0|           0.0|      0|          11668.14|              0.0|    0.28079462867593974|              0|              1|              0|         0|\n",
            "+----+--------+--------+-----------+-------------+--------------+-----------+--------------+--------------+-------+------------------+-----------------+-----------------------+---------------+---------------+---------------+----------+\n",
            "only showing top 5 rows\n",
            "\n"
          ]
        }
      ],
      "source": [
        "# Time based features\n",
        "from pyspark.sql.functions import floor, expr\n",
        "\n",
        "# Hour of the day from step feature from 0 to 23\n",
        "df_spark = df_spark.withColumn('hour_of_the_day', col('step') % 24)\n",
        "\n",
        "# Day of the week from 0 to 6\n",
        "df_spark = df_spark.withColumn('day_of_the_week', (floor(col('step')/24) % 7).cast('int') )\n",
        "\n",
        "# Is_weekend\n",
        "df_spark = df_spark.withColumn('is_weekend', when(col('day_of_the_week').isin([5, 6]), 1).otherwise(0) )\n",
        "\n",
        "df_spark.createOrReplaceTempView('paysim')\n",
        "df_spark.show(5)"
      ]
    },
    {
      "cell_type": "code",
      "execution_count": 25,
      "metadata": {
        "colab": {
          "base_uri": "https://localhost:8080/"
        },
        "id": "NJ9TbHxIGEEI",
        "outputId": "a7e30dcf-39f7-41c0-a221-99c5e191c004"
      },
      "outputs": [
        {
          "output_type": "stream",
          "name": "stdout",
          "text": [
            "root\n",
            " |-- step: integer (nullable = true)\n",
            " |-- type: string (nullable = true)\n",
            " |-- amount: double (nullable = true)\n",
            " |-- nameOrig: string (nullable = true)\n",
            " |-- oldbalanceOrg: double (nullable = true)\n",
            " |-- newbalanceOrig: double (nullable = true)\n",
            " |-- nameDest: string (nullable = true)\n",
            " |-- oldbalanceDest: double (nullable = true)\n",
            " |-- newbalanceDest: double (nullable = true)\n",
            " |-- isFraud: integer (nullable = true)\n",
            " |-- balance_diff_orig: double (nullable = true)\n",
            " |-- balance_diff_dest: double (nullable = true)\n",
            " |-- amount_to_balance_ratio: double (nullable = true)\n",
            " |-- is_zero_balance: integer (nullable = false)\n",
            " |-- hour_of_the_day: integer (nullable = true)\n",
            " |-- day_of_the_week: integer (nullable = true)\n",
            " |-- is_weekend: integer (nullable = false)\n",
            "\n"
          ]
        }
      ],
      "source": [
        "df_spark.printSchema()"
      ]
    },
    {
      "cell_type": "code",
      "source": [
        "from pyspark.sql import Window\n",
        "from pyspark.sql.functions import col, asc, desc, lag, mean, stddev, count, min, when, lit, expr, percentile_approx\n",
        "\n",
        "df_spark = df_spark.orderBy(asc('step'), asc('nameOrig'))\n",
        "# Rolling windows\n",
        "window_12 = Window.partitionBy(\"nameOrig\").orderBy(\"step\").rowsBetween(-12, -1)\n",
        "window_6 = Window.partitionBy(\"nameOrig\").orderBy(\"step\").rowsBetween(-6, -1)\n",
        "window_dest_12 = Window.partitionBy(\"nameDest\").orderBy(\"step\").rowsBetween(-12, -1)\n",
        "window_dest_6 = Window.partitionBy(\"nameDest\").orderBy(\"step\").rowsBetween(-6, -1)\n",
        "\n",
        "# Full group windows\n",
        "group_window_orig = Window.partitionBy(\"nameOrig\")\n",
        "group_window_dest = Window.partitionBy(\"nameDest\")\n"
      ],
      "metadata": {
        "id": "QmxyTp6Wh-jw"
      },
      "execution_count": 39,
      "outputs": []
    },
    {
      "cell_type": "code",
      "source": [
        "df = df_spark\n",
        "\n",
        "# Rolling features\n",
        "df = df.withColumn(\"rolling_balance_change\", mean(\"newbalanceOrig\").over(window_12))\n",
        "df = df.withColumn(\"rolling_amount_mean_12h\", mean(\"amount\").over(window_12))\n",
        "df = df.withColumn(\"balance_volatility_12\", stddev(\"newbalanceOrig\").over(window_12))\n",
        "df = df.withColumn(\"dest_balance_change_12h\", mean(\"newbalanceDest\").over(window_dest_12))\n",
        "\n"
      ],
      "metadata": {
        "id": "Qy8fz91aiBaU"
      },
      "execution_count": 40,
      "outputs": []
    },
    {
      "cell_type": "code",
      "source": [
        "# Account age and activity\n",
        "df = df.withColumn(\"account_age\", col(\"step\") - min(\"step\").over(group_window_orig))\n",
        "df = df.withColumn(\"account_activity\", count(\"step\").over(group_window_orig))\n",
        "df = df.withColumn(\"dest_txn_count\", count(\"step\").over(group_window_dest))\n",
        "\n",
        "# Ratio features\n",
        "df = df.withColumn(\"balance_recovery_ratio\", col(\"newbalanceOrig\") / (col(\"oldbalanceOrg\") + lit(1e-6)))\n",
        "\n",
        "# High amount flag (95th percentile)\n",
        "threshold = df.approxQuantile(\"amount\", [0.95], 0.01)[0]\n",
        "df = df.withColumn(\"is_high_amount\", (col(\"amount\") > threshold).cast(\"int\"))\n",
        "\n",
        "# Transaction count in past 6 steps\n",
        "df = df.withColumn(\"txn_count_6h\", count(\"step\").over(window_6))\n",
        "df = df.withColumn(\"dest_txn_count_6h\", count(\"step\").over(window_dest_6))\n",
        "\n",
        "# Flags\n",
        "df = df.withColumn(\"is_frequent_sender\", (col(\"txn_count_6h\") > 5).cast(\"int\"))\n",
        "df = df.withColumn(\"is_frequent_receiver\", (col(\"dest_txn_count_6h\") > 5).cast(\"int\"))\n",
        "df = df.withColumn(\"is_new_account\", (col(\"account_age\") < 24).cast(\"int\"))\n"
      ],
      "metadata": {
        "id": "23MnLGvaiOWU"
      },
      "execution_count": 41,
      "outputs": []
    },
    {
      "cell_type": "code",
      "source": [
        "df.cache()"
      ],
      "metadata": {
        "colab": {
          "base_uri": "https://localhost:8080/"
        },
        "id": "ntMgmA2XSilM",
        "outputId": "39d1dfba-a9b7-4d6f-9aa5-dba3f50100b4"
      },
      "execution_count": 42,
      "outputs": [
        {
          "output_type": "execute_result",
          "data": {
            "text/plain": [
              "DataFrame[step: int, type: string, amount: double, nameOrig: string, oldbalanceOrg: double, newbalanceOrig: double, nameDest: string, oldbalanceDest: double, newbalanceDest: double, isFraud: int, balance_diff_orig: double, balance_diff_dest: double, amount_to_balance_ratio: double, is_zero_balance: int, hour_of_the_day: int, day_of_the_week: int, is_weekend: int, rolling_balance_change: double, rolling_amount_mean_12h: double, balance_volatility_12: double, dest_balance_change_12h: double, account_age: int, account_activity: bigint, dest_txn_count: bigint, balance_recovery_ratio: double, is_high_amount: int, txn_count_6h: bigint, dest_txn_count_6h: bigint, is_frequent_sender: int, is_frequent_receiver: int, is_new_account: int]"
            ]
          },
          "metadata": {},
          "execution_count": 42
        }
      ]
    },
    {
      "cell_type": "code",
      "source": [
        "df.show(5)"
      ],
      "metadata": {
        "colab": {
          "base_uri": "https://localhost:8080/"
        },
        "id": "B0LmyAeFiUWd",
        "outputId": "7d08473a-fcb3-45d2-b646-4cb218296cbf"
      },
      "execution_count": 43,
      "outputs": [
        {
          "output_type": "stream",
          "name": "stdout",
          "text": [
            "+----+--------+---------+-----------+-------------+--------------+-----------+--------------+--------------+-------+------------------+-------------------+-----------------------+---------------+---------------+---------------+----------+----------------------+-----------------------+---------------------+-----------------------+-----------+----------------+--------------+----------------------+--------------+------------+-----------------+------------------+--------------------+--------------+\n",
            "|step|    type|   amount|   nameOrig|oldbalanceOrg|newbalanceOrig|   nameDest|oldbalanceDest|newbalanceDest|isFraud| balance_diff_orig|  balance_diff_dest|amount_to_balance_ratio|is_zero_balance|hour_of_the_day|day_of_the_week|is_weekend|rolling_balance_change|rolling_amount_mean_12h|balance_volatility_12|dest_balance_change_12h|account_age|account_activity|dest_txn_count|balance_recovery_ratio|is_high_amount|txn_count_6h|dest_txn_count_6h|is_frequent_sender|is_frequent_receiver|is_new_account|\n",
            "+----+--------+---------+-----------+-------------+--------------+-----------+--------------+--------------+-------+------------------+-------------------+-----------------------+---------------+---------------+---------------+----------+----------------------+-----------------------+---------------------+-----------------------+-----------+----------------+--------------+----------------------+--------------+------------+-----------------+------------------+--------------------+--------------+\n",
            "| 299|CASH_OUT| 81518.85|C1416873430|      25364.0|           0.0|C1001354766|      10561.78|      92080.63|      0|           25364.0|          -81518.85|      3.213958760447879|              0|             11|              5|         1|                  NULL|                   NULL|                 NULL|                   NULL|          0|               2|             4|                   0.0|             0|           0|                0|                 0|                   0|             1|\n",
            "| 353| CASH_IN|  4581.16| C390490836|1.544342734E7|  1.54480085E7|C1001354766|      92080.63|      87499.47|      0|-4581.160000000149| 4581.1600000000035|   2.966414060261315E-4|              0|             17|              0|         0|                  NULL|                   NULL|                 NULL|               92080.63|          0|               1|             4|    1.0002966414059613|             0|           0|                1|                 0|                   0|             1|\n",
            "| 395|CASH_OUT|373974.71| C686802298|        483.0|           0.0|C1001354766|      87499.47|     461474.18|      0|             483.0|-373974.70999999996|      774.2747619047619|              0|             11|              2|         0|                  NULL|                   NULL|                 NULL|               89790.05|          0|               1|             4|                   0.0|             0|           0|                2|                 0|                   0|             1|\n",
            "| 398|CASH_OUT|115616.86| C942252729|          0.0|           0.0|C1001354766|     461474.18|     577091.04|      0|               0.0|-115616.86000000004|           1.1561686E11|              1|             14|              2|         0|                  NULL|                   NULL|                 NULL|              213684.76|          0|               1|             4|                   0.0|             0|           0|                3|                 0|                   0|             1|\n",
            "| 139|CASH_OUT|236303.68|C1305919227|       6661.0|           0.0|C1002140910|           0.0|     236303.68|      0|            6661.0|         -236303.68|     35.475706350397836|              0|             19|              5|         1|                  NULL|                   NULL|                 NULL|                   NULL|          0|               1|            16|                   0.0|             0|           0|                0|                 0|                   0|             1|\n",
            "+----+--------+---------+-----------+-------------+--------------+-----------+--------------+--------------+-------+------------------+-------------------+-----------------------+---------------+---------------+---------------+----------+----------------------+-----------------------+---------------------+-----------------------+-----------+----------------+--------------+----------------------+--------------+------------+-----------------+------------------+--------------------+--------------+\n",
            "only showing top 5 rows\n",
            "\n"
          ]
        }
      ]
    },
    {
      "cell_type": "code",
      "source": [
        "df.select([ count(when(col(c).isNull(), c )).alias(c + \"_nulls\") for c in df.columns ]).show()"
      ],
      "metadata": {
        "colab": {
          "base_uri": "https://localhost:8080/"
        },
        "id": "3l4gBdA-QBT4",
        "outputId": "56c122d5-47f0-468e-9da1-e7aea9a2ee66"
      },
      "execution_count": 44,
      "outputs": [
        {
          "output_type": "stream",
          "name": "stdout",
          "text": [
            "+----------+----------+------------+--------------+-------------------+--------------------+--------------+--------------------+--------------------+-------------+-----------------------+-----------------------+-----------------------------+---------------------+---------------------+---------------------+----------------+----------------------------+-----------------------------+---------------------------+-----------------------------+-----------------+----------------------+--------------------+----------------------------+--------------------+------------------+-----------------------+------------------------+--------------------------+--------------------+\n",
            "|step_nulls|type_nulls|amount_nulls|nameOrig_nulls|oldbalanceOrg_nulls|newbalanceOrig_nulls|nameDest_nulls|oldbalanceDest_nulls|newbalanceDest_nulls|isFraud_nulls|balance_diff_orig_nulls|balance_diff_dest_nulls|amount_to_balance_ratio_nulls|is_zero_balance_nulls|hour_of_the_day_nulls|day_of_the_week_nulls|is_weekend_nulls|rolling_balance_change_nulls|rolling_amount_mean_12h_nulls|balance_volatility_12_nulls|dest_balance_change_12h_nulls|account_age_nulls|account_activity_nulls|dest_txn_count_nulls|balance_recovery_ratio_nulls|is_high_amount_nulls|txn_count_6h_nulls|dest_txn_count_6h_nulls|is_frequent_sender_nulls|is_frequent_receiver_nulls|is_new_account_nulls|\n",
            "+----------+----------+------------+--------------+-------------------+--------------------+--------------+--------------------+--------------------+-------------+-----------------------+-----------------------+-----------------------------+---------------------+---------------------+---------------------+----------------+----------------------------+-----------------------------+---------------------------+-----------------------------+-----------------+----------------------+--------------------+----------------------------+--------------------+------------------+-----------------------+------------------------+--------------------------+--------------------+\n",
            "|         0|         0|           0|             0|                  0|                   0|             0|                   0|                   0|            0|                      0|                      0|                            0|                    0|                    0|                    0|               0|                     6353307|                      6353307|                    6362605|                      2722362|                0|                     0|                   0|                           0|                   0|                 0|                      0|                       0|                         0|                   0|\n",
            "+----------+----------+------------+--------------+-------------------+--------------------+--------------+--------------------+--------------------+-------------+-----------------------+-----------------------+-----------------------------+---------------------+---------------------+---------------------+----------------+----------------------------+-----------------------------+---------------------------+-----------------------------+-----------------+----------------------+--------------------+----------------------------+--------------------+------------------+-----------------------+------------------------+--------------------------+--------------------+\n",
            "\n"
          ]
        }
      ]
    },
    {
      "cell_type": "code",
      "source": [
        "df.groupBy('nameOrig').count().filter('count < 6').count()"
      ],
      "metadata": {
        "colab": {
          "base_uri": "https://localhost:8080/"
        },
        "id": "yGAMOiDeU_7l",
        "outputId": "34915a6d-76ed-43c4-be76-feae36d6aaa5"
      },
      "execution_count": 49,
      "outputs": [
        {
          "output_type": "execute_result",
          "data": {
            "text/plain": [
              "6353307"
            ]
          },
          "metadata": {},
          "execution_count": 49
        }
      ]
    },
    {
      "cell_type": "code",
      "source": [
        "# Imputating the nulls as here they mean users with limited or fewer transactions and not noise, and they could potentially be fraudulent too\n",
        "df = df.fillna({\n",
        "    \"rolling_balance_change\": -1,\n",
        "    \"rolling_amount_mean_12h\": -1,\n",
        "    \"balance_volatility_12\": -1,\n",
        "    \"dest_balance_change_12h\": -1\n",
        "})"
      ],
      "metadata": {
        "id": "Matq0rFXXcF3"
      },
      "execution_count": 50,
      "outputs": []
    },
    {
      "cell_type": "code",
      "source": [
        "df.select([ count(when(col(c).isNull(), c )).alias(c + \"_nulls\") for c in df.columns ]).show()"
      ],
      "metadata": {
        "colab": {
          "base_uri": "https://localhost:8080/"
        },
        "id": "v6t3ARt3X5cV",
        "outputId": "f37370a6-7e0b-4fc5-af14-b44c0eb10f36"
      },
      "execution_count": 52,
      "outputs": [
        {
          "output_type": "stream",
          "name": "stdout",
          "text": [
            "+----------+----------+------------+--------------+-------------------+--------------------+--------------+--------------------+--------------------+-------------+-----------------------+-----------------------+-----------------------------+---------------------+---------------------+---------------------+----------------+----------------------------+-----------------------------+---------------------------+-----------------------------+-----------------+----------------------+--------------------+----------------------------+--------------------+------------------+-----------------------+------------------------+--------------------------+--------------------+\n",
            "|step_nulls|type_nulls|amount_nulls|nameOrig_nulls|oldbalanceOrg_nulls|newbalanceOrig_nulls|nameDest_nulls|oldbalanceDest_nulls|newbalanceDest_nulls|isFraud_nulls|balance_diff_orig_nulls|balance_diff_dest_nulls|amount_to_balance_ratio_nulls|is_zero_balance_nulls|hour_of_the_day_nulls|day_of_the_week_nulls|is_weekend_nulls|rolling_balance_change_nulls|rolling_amount_mean_12h_nulls|balance_volatility_12_nulls|dest_balance_change_12h_nulls|account_age_nulls|account_activity_nulls|dest_txn_count_nulls|balance_recovery_ratio_nulls|is_high_amount_nulls|txn_count_6h_nulls|dest_txn_count_6h_nulls|is_frequent_sender_nulls|is_frequent_receiver_nulls|is_new_account_nulls|\n",
            "+----------+----------+------------+--------------+-------------------+--------------------+--------------+--------------------+--------------------+-------------+-----------------------+-----------------------+-----------------------------+---------------------+---------------------+---------------------+----------------+----------------------------+-----------------------------+---------------------------+-----------------------------+-----------------+----------------------+--------------------+----------------------------+--------------------+------------------+-----------------------+------------------------+--------------------------+--------------------+\n",
            "|         0|         0|           0|             0|                  0|                   0|             0|                   0|                   0|            0|                      0|                      0|                            0|                    0|                    0|                    0|               0|                           0|                            0|                          0|                            0|                0|                     0|                   0|                           0|                   0|                 0|                      0|                       0|                         0|                   0|\n",
            "+----------+----------+------------+--------------+-------------------+--------------------+--------------+--------------------+--------------------+-------------+-----------------------+-----------------------+-----------------------------+---------------------+---------------------+---------------------+----------------+----------------------------+-----------------------------+---------------------------+-----------------------------+-----------------+----------------------+--------------------+----------------------------+--------------------+------------------+-----------------------+------------------------+--------------------------+--------------------+\n",
            "\n"
          ]
        }
      ]
    },
    {
      "cell_type": "markdown",
      "source": [
        "#### Downsampling the dataset for modeling\n",
        "\n"
      ],
      "metadata": {
        "id": "ZxRbAdK7M8DP"
      }
    },
    {
      "cell_type": "code",
      "source": [
        "from pyspark.sql.functions import col\n",
        "\n",
        "fraud_df = df.filter('isFraud == 1')\n",
        "\n",
        "# Defining quantiles for splitting the data based on time (step)\n",
        "q1, q2 = df.approxQuantile(\"step\", [0.33, 0.66], 0.01)\n",
        "\n",
        "# Slicing non-fraud data to include data from all three quantiles\n",
        "early = df.filter((col(\"isFraud\") == 0) & (col(\"step\") <= q1))\n",
        "mid   = df.filter((col(\"isFraud\") == 0) & (col(\"step\") > q1) & (col(\"step\") <= q2))\n",
        "late  = df.filter((col(\"isFraud\") == 0) & (col(\"step\") > q2))\n",
        "\n",
        "# Sampling from each slice\n",
        "target_count = fraud_df.count() * 100\n",
        "early_sample = early.sample(False, 0.33 * target_count / early.count())\n",
        "mid_sample   = mid.sample(False, 0.33 * target_count / mid.count())\n",
        "late_sample  = late.sample(False, 0.34 * target_count / late.count())\n",
        "\n",
        "# Combine with frauds\n",
        "nonfraud_sampled = early_sample.union(mid_sample).union(late_sample)\n",
        "downsampled_df = fraud_df.union(nonfraud_sampled)\n"
      ],
      "metadata": {
        "id": "taYiBd6nfv7c"
      },
      "execution_count": 56,
      "outputs": []
    },
    {
      "cell_type": "code",
      "source": [
        "downsampled_df.count()"
      ],
      "metadata": {
        "colab": {
          "base_uri": "https://localhost:8080/"
        },
        "id": "VO2YjJeGf48p",
        "outputId": "ba4011dc-034c-409a-8951-e001735a880d"
      },
      "execution_count": 57,
      "outputs": [
        {
          "output_type": "execute_result",
          "data": {
            "text/plain": [
              "829234"
            ]
          },
          "metadata": {},
          "execution_count": 57
        }
      ]
    },
    {
      "cell_type": "code",
      "source": [
        "df_pandas = downsampled_df.toPandas()\n",
        "df_pandas.isnull().sum()"
      ],
      "metadata": {
        "colab": {
          "base_uri": "https://localhost:8080/",
          "height": 1000
        },
        "id": "sCQOb4NijqME",
        "outputId": "66a520f9-a4bd-4cb3-f3ea-308b9c43a14c"
      },
      "execution_count": 58,
      "outputs": [
        {
          "output_type": "execute_result",
          "data": {
            "text/plain": [
              "step                       0\n",
              "type                       0\n",
              "amount                     0\n",
              "nameOrig                   0\n",
              "oldbalanceOrg              0\n",
              "newbalanceOrig             0\n",
              "nameDest                   0\n",
              "oldbalanceDest             0\n",
              "newbalanceDest             0\n",
              "isFraud                    0\n",
              "balance_diff_orig          0\n",
              "balance_diff_dest          0\n",
              "amount_to_balance_ratio    0\n",
              "is_zero_balance            0\n",
              "hour_of_the_day            0\n",
              "day_of_the_week            0\n",
              "is_weekend                 0\n",
              "rolling_balance_change     0\n",
              "rolling_amount_mean_12h    0\n",
              "balance_volatility_12      0\n",
              "dest_balance_change_12h    0\n",
              "account_age                0\n",
              "account_activity           0\n",
              "dest_txn_count             0\n",
              "balance_recovery_ratio     0\n",
              "is_high_amount             0\n",
              "txn_count_6h               0\n",
              "dest_txn_count_6h          0\n",
              "is_frequent_sender         0\n",
              "is_frequent_receiver       0\n",
              "is_new_account             0\n",
              "dtype: int64"
            ],
            "text/html": [
              "<div>\n",
              "<style scoped>\n",
              "    .dataframe tbody tr th:only-of-type {\n",
              "        vertical-align: middle;\n",
              "    }\n",
              "\n",
              "    .dataframe tbody tr th {\n",
              "        vertical-align: top;\n",
              "    }\n",
              "\n",
              "    .dataframe thead th {\n",
              "        text-align: right;\n",
              "    }\n",
              "</style>\n",
              "<table border=\"1\" class=\"dataframe\">\n",
              "  <thead>\n",
              "    <tr style=\"text-align: right;\">\n",
              "      <th></th>\n",
              "      <th>0</th>\n",
              "    </tr>\n",
              "  </thead>\n",
              "  <tbody>\n",
              "    <tr>\n",
              "      <th>step</th>\n",
              "      <td>0</td>\n",
              "    </tr>\n",
              "    <tr>\n",
              "      <th>type</th>\n",
              "      <td>0</td>\n",
              "    </tr>\n",
              "    <tr>\n",
              "      <th>amount</th>\n",
              "      <td>0</td>\n",
              "    </tr>\n",
              "    <tr>\n",
              "      <th>nameOrig</th>\n",
              "      <td>0</td>\n",
              "    </tr>\n",
              "    <tr>\n",
              "      <th>oldbalanceOrg</th>\n",
              "      <td>0</td>\n",
              "    </tr>\n",
              "    <tr>\n",
              "      <th>newbalanceOrig</th>\n",
              "      <td>0</td>\n",
              "    </tr>\n",
              "    <tr>\n",
              "      <th>nameDest</th>\n",
              "      <td>0</td>\n",
              "    </tr>\n",
              "    <tr>\n",
              "      <th>oldbalanceDest</th>\n",
              "      <td>0</td>\n",
              "    </tr>\n",
              "    <tr>\n",
              "      <th>newbalanceDest</th>\n",
              "      <td>0</td>\n",
              "    </tr>\n",
              "    <tr>\n",
              "      <th>isFraud</th>\n",
              "      <td>0</td>\n",
              "    </tr>\n",
              "    <tr>\n",
              "      <th>balance_diff_orig</th>\n",
              "      <td>0</td>\n",
              "    </tr>\n",
              "    <tr>\n",
              "      <th>balance_diff_dest</th>\n",
              "      <td>0</td>\n",
              "    </tr>\n",
              "    <tr>\n",
              "      <th>amount_to_balance_ratio</th>\n",
              "      <td>0</td>\n",
              "    </tr>\n",
              "    <tr>\n",
              "      <th>is_zero_balance</th>\n",
              "      <td>0</td>\n",
              "    </tr>\n",
              "    <tr>\n",
              "      <th>hour_of_the_day</th>\n",
              "      <td>0</td>\n",
              "    </tr>\n",
              "    <tr>\n",
              "      <th>day_of_the_week</th>\n",
              "      <td>0</td>\n",
              "    </tr>\n",
              "    <tr>\n",
              "      <th>is_weekend</th>\n",
              "      <td>0</td>\n",
              "    </tr>\n",
              "    <tr>\n",
              "      <th>rolling_balance_change</th>\n",
              "      <td>0</td>\n",
              "    </tr>\n",
              "    <tr>\n",
              "      <th>rolling_amount_mean_12h</th>\n",
              "      <td>0</td>\n",
              "    </tr>\n",
              "    <tr>\n",
              "      <th>balance_volatility_12</th>\n",
              "      <td>0</td>\n",
              "    </tr>\n",
              "    <tr>\n",
              "      <th>dest_balance_change_12h</th>\n",
              "      <td>0</td>\n",
              "    </tr>\n",
              "    <tr>\n",
              "      <th>account_age</th>\n",
              "      <td>0</td>\n",
              "    </tr>\n",
              "    <tr>\n",
              "      <th>account_activity</th>\n",
              "      <td>0</td>\n",
              "    </tr>\n",
              "    <tr>\n",
              "      <th>dest_txn_count</th>\n",
              "      <td>0</td>\n",
              "    </tr>\n",
              "    <tr>\n",
              "      <th>balance_recovery_ratio</th>\n",
              "      <td>0</td>\n",
              "    </tr>\n",
              "    <tr>\n",
              "      <th>is_high_amount</th>\n",
              "      <td>0</td>\n",
              "    </tr>\n",
              "    <tr>\n",
              "      <th>txn_count_6h</th>\n",
              "      <td>0</td>\n",
              "    </tr>\n",
              "    <tr>\n",
              "      <th>dest_txn_count_6h</th>\n",
              "      <td>0</td>\n",
              "    </tr>\n",
              "    <tr>\n",
              "      <th>is_frequent_sender</th>\n",
              "      <td>0</td>\n",
              "    </tr>\n",
              "    <tr>\n",
              "      <th>is_frequent_receiver</th>\n",
              "      <td>0</td>\n",
              "    </tr>\n",
              "    <tr>\n",
              "      <th>is_new_account</th>\n",
              "      <td>0</td>\n",
              "    </tr>\n",
              "  </tbody>\n",
              "</table>\n",
              "</div><br><label><b>dtype:</b> int64</label>"
            ]
          },
          "metadata": {},
          "execution_count": 58
        }
      ]
    },
    {
      "cell_type": "markdown",
      "metadata": {
        "id": "dDQeuyeRHPas"
      },
      "source": [
        "#### Categorical Encoding - One Hot Encoding\n",
        "##### As the distance based algorithms such as KNN, LoF may misinterpret integer categories as weighted or ordered"
      ]
    },
    {
      "cell_type": "code",
      "execution_count": 59,
      "metadata": {
        "colab": {
          "base_uri": "https://localhost:8080/",
          "height": 226
        },
        "id": "jWszhR_IHNOM",
        "outputId": "94f01553-bc7a-4edb-dfaa-987f91b6d31f"
      },
      "outputs": [
        {
          "output_type": "execute_result",
          "data": {
            "text/plain": [
              "   step      amount     nameOrig  oldbalanceOrg  newbalanceOrig     nameDest  \\\n",
              "0     1   132842.64    C13692003        4499.08             0.0   C297927961   \n",
              "1     1   416001.33   C749981943           0.00             0.0   C667346055   \n",
              "2     1    25071.46   C669700766       25071.46             0.0  C1384210339   \n",
              "3     1     2806.00  C2101527076        2806.00             0.0  C1007251739   \n",
              "4     1  1277212.77   C467632528     1277212.77             0.0   C716083600   \n",
              "\n",
              "   oldbalanceDest  newbalanceDest  isFraud  balance_diff_orig  \\\n",
              "0             0.0       132842.64        1            4499.08   \n",
              "1           102.0      9291619.62        1               0.00   \n",
              "2             0.0            0.00        1           25071.46   \n",
              "3         26202.0            0.00        1            2806.00   \n",
              "4             0.0      2444985.19        1         1277212.77   \n",
              "\n",
              "   balance_diff_dest  amount_to_balance_ratio  is_zero_balance  \\\n",
              "0         -132842.64             2.952662e+01                0   \n",
              "1        -9291517.62             4.160013e+11                1   \n",
              "2               0.00             1.000000e+00                0   \n",
              "3           26202.00             1.000000e+00                0   \n",
              "4        -2444985.19             1.000000e+00                0   \n",
              "\n",
              "   hour_of_the_day  day_of_the_week  is_weekend  rolling_balance_change  \\\n",
              "0                1                0           0                    -1.0   \n",
              "1                1                0           0                    -1.0   \n",
              "2                1                0           0                    -1.0   \n",
              "3                1                0           0                    -1.0   \n",
              "4                1                0           0                    -1.0   \n",
              "\n",
              "   rolling_amount_mean_12h  balance_volatility_12  dest_balance_change_12h  \\\n",
              "0                     -1.0                   -1.0             1.154165e+05   \n",
              "1                     -1.0                   -1.0             1.022753e+07   \n",
              "2                     -1.0                   -1.0            -1.000000e+00   \n",
              "3                     -1.0                   -1.0            -1.000000e+00   \n",
              "4                     -1.0                   -1.0             2.444985e+06   \n",
              "\n",
              "   account_age  account_activity  dest_txn_count  balance_recovery_ratio  \\\n",
              "0            0                 1              42                     0.0   \n",
              "1            0                 1              86                     0.0   \n",
              "2            0                 1              10                     0.0   \n",
              "3            0                 1              35                     0.0   \n",
              "4            0                 1              89                     0.0   \n",
              "\n",
              "   is_high_amount  txn_count_6h  dest_txn_count_6h  is_frequent_sender  \\\n",
              "0               0             0                  2                   0   \n",
              "1               0             0                  3                   0   \n",
              "2               0             0                  0                   0   \n",
              "3               0             0                  0                   0   \n",
              "4               1             0                  2                   0   \n",
              "\n",
              "   is_frequent_receiver  is_new_account  type_CASH_IN  type_CASH_OUT  \\\n",
              "0                     0               1             0              1   \n",
              "1                     0               1             0              1   \n",
              "2                     0               1             0              0   \n",
              "3                     0               1             0              1   \n",
              "4                     0               1             0              1   \n",
              "\n",
              "   type_DEBIT  type_PAYMENT  type_TRANSFER  \n",
              "0           0             0              0  \n",
              "1           0             0              0  \n",
              "2           0             0              1  \n",
              "3           0             0              0  \n",
              "4           0             0              0  "
            ],
            "text/html": [
              "\n",
              "  <div id=\"df-5d30864f-07c2-4f4a-9574-361863fbf8eb\" class=\"colab-df-container\">\n",
              "    <div>\n",
              "<style scoped>\n",
              "    .dataframe tbody tr th:only-of-type {\n",
              "        vertical-align: middle;\n",
              "    }\n",
              "\n",
              "    .dataframe tbody tr th {\n",
              "        vertical-align: top;\n",
              "    }\n",
              "\n",
              "    .dataframe thead th {\n",
              "        text-align: right;\n",
              "    }\n",
              "</style>\n",
              "<table border=\"1\" class=\"dataframe\">\n",
              "  <thead>\n",
              "    <tr style=\"text-align: right;\">\n",
              "      <th></th>\n",
              "      <th>step</th>\n",
              "      <th>amount</th>\n",
              "      <th>nameOrig</th>\n",
              "      <th>oldbalanceOrg</th>\n",
              "      <th>newbalanceOrig</th>\n",
              "      <th>nameDest</th>\n",
              "      <th>oldbalanceDest</th>\n",
              "      <th>newbalanceDest</th>\n",
              "      <th>isFraud</th>\n",
              "      <th>balance_diff_orig</th>\n",
              "      <th>balance_diff_dest</th>\n",
              "      <th>amount_to_balance_ratio</th>\n",
              "      <th>is_zero_balance</th>\n",
              "      <th>hour_of_the_day</th>\n",
              "      <th>day_of_the_week</th>\n",
              "      <th>is_weekend</th>\n",
              "      <th>rolling_balance_change</th>\n",
              "      <th>rolling_amount_mean_12h</th>\n",
              "      <th>balance_volatility_12</th>\n",
              "      <th>dest_balance_change_12h</th>\n",
              "      <th>account_age</th>\n",
              "      <th>account_activity</th>\n",
              "      <th>dest_txn_count</th>\n",
              "      <th>balance_recovery_ratio</th>\n",
              "      <th>is_high_amount</th>\n",
              "      <th>txn_count_6h</th>\n",
              "      <th>dest_txn_count_6h</th>\n",
              "      <th>is_frequent_sender</th>\n",
              "      <th>is_frequent_receiver</th>\n",
              "      <th>is_new_account</th>\n",
              "      <th>type_CASH_IN</th>\n",
              "      <th>type_CASH_OUT</th>\n",
              "      <th>type_DEBIT</th>\n",
              "      <th>type_PAYMENT</th>\n",
              "      <th>type_TRANSFER</th>\n",
              "    </tr>\n",
              "  </thead>\n",
              "  <tbody>\n",
              "    <tr>\n",
              "      <th>0</th>\n",
              "      <td>1</td>\n",
              "      <td>132842.64</td>\n",
              "      <td>C13692003</td>\n",
              "      <td>4499.08</td>\n",
              "      <td>0.0</td>\n",
              "      <td>C297927961</td>\n",
              "      <td>0.0</td>\n",
              "      <td>132842.64</td>\n",
              "      <td>1</td>\n",
              "      <td>4499.08</td>\n",
              "      <td>-132842.64</td>\n",
              "      <td>2.952662e+01</td>\n",
              "      <td>0</td>\n",
              "      <td>1</td>\n",
              "      <td>0</td>\n",
              "      <td>0</td>\n",
              "      <td>-1.0</td>\n",
              "      <td>-1.0</td>\n",
              "      <td>-1.0</td>\n",
              "      <td>1.154165e+05</td>\n",
              "      <td>0</td>\n",
              "      <td>1</td>\n",
              "      <td>42</td>\n",
              "      <td>0.0</td>\n",
              "      <td>0</td>\n",
              "      <td>0</td>\n",
              "      <td>2</td>\n",
              "      <td>0</td>\n",
              "      <td>0</td>\n",
              "      <td>1</td>\n",
              "      <td>0</td>\n",
              "      <td>1</td>\n",
              "      <td>0</td>\n",
              "      <td>0</td>\n",
              "      <td>0</td>\n",
              "    </tr>\n",
              "    <tr>\n",
              "      <th>1</th>\n",
              "      <td>1</td>\n",
              "      <td>416001.33</td>\n",
              "      <td>C749981943</td>\n",
              "      <td>0.00</td>\n",
              "      <td>0.0</td>\n",
              "      <td>C667346055</td>\n",
              "      <td>102.0</td>\n",
              "      <td>9291619.62</td>\n",
              "      <td>1</td>\n",
              "      <td>0.00</td>\n",
              "      <td>-9291517.62</td>\n",
              "      <td>4.160013e+11</td>\n",
              "      <td>1</td>\n",
              "      <td>1</td>\n",
              "      <td>0</td>\n",
              "      <td>0</td>\n",
              "      <td>-1.0</td>\n",
              "      <td>-1.0</td>\n",
              "      <td>-1.0</td>\n",
              "      <td>1.022753e+07</td>\n",
              "      <td>0</td>\n",
              "      <td>1</td>\n",
              "      <td>86</td>\n",
              "      <td>0.0</td>\n",
              "      <td>0</td>\n",
              "      <td>0</td>\n",
              "      <td>3</td>\n",
              "      <td>0</td>\n",
              "      <td>0</td>\n",
              "      <td>1</td>\n",
              "      <td>0</td>\n",
              "      <td>1</td>\n",
              "      <td>0</td>\n",
              "      <td>0</td>\n",
              "      <td>0</td>\n",
              "    </tr>\n",
              "    <tr>\n",
              "      <th>2</th>\n",
              "      <td>1</td>\n",
              "      <td>25071.46</td>\n",
              "      <td>C669700766</td>\n",
              "      <td>25071.46</td>\n",
              "      <td>0.0</td>\n",
              "      <td>C1384210339</td>\n",
              "      <td>0.0</td>\n",
              "      <td>0.00</td>\n",
              "      <td>1</td>\n",
              "      <td>25071.46</td>\n",
              "      <td>0.00</td>\n",
              "      <td>1.000000e+00</td>\n",
              "      <td>0</td>\n",
              "      <td>1</td>\n",
              "      <td>0</td>\n",
              "      <td>0</td>\n",
              "      <td>-1.0</td>\n",
              "      <td>-1.0</td>\n",
              "      <td>-1.0</td>\n",
              "      <td>-1.000000e+00</td>\n",
              "      <td>0</td>\n",
              "      <td>1</td>\n",
              "      <td>10</td>\n",
              "      <td>0.0</td>\n",
              "      <td>0</td>\n",
              "      <td>0</td>\n",
              "      <td>0</td>\n",
              "      <td>0</td>\n",
              "      <td>0</td>\n",
              "      <td>1</td>\n",
              "      <td>0</td>\n",
              "      <td>0</td>\n",
              "      <td>0</td>\n",
              "      <td>0</td>\n",
              "      <td>1</td>\n",
              "    </tr>\n",
              "    <tr>\n",
              "      <th>3</th>\n",
              "      <td>1</td>\n",
              "      <td>2806.00</td>\n",
              "      <td>C2101527076</td>\n",
              "      <td>2806.00</td>\n",
              "      <td>0.0</td>\n",
              "      <td>C1007251739</td>\n",
              "      <td>26202.0</td>\n",
              "      <td>0.00</td>\n",
              "      <td>1</td>\n",
              "      <td>2806.00</td>\n",
              "      <td>26202.00</td>\n",
              "      <td>1.000000e+00</td>\n",
              "      <td>0</td>\n",
              "      <td>1</td>\n",
              "      <td>0</td>\n",
              "      <td>0</td>\n",
              "      <td>-1.0</td>\n",
              "      <td>-1.0</td>\n",
              "      <td>-1.0</td>\n",
              "      <td>-1.000000e+00</td>\n",
              "      <td>0</td>\n",
              "      <td>1</td>\n",
              "      <td>35</td>\n",
              "      <td>0.0</td>\n",
              "      <td>0</td>\n",
              "      <td>0</td>\n",
              "      <td>0</td>\n",
              "      <td>0</td>\n",
              "      <td>0</td>\n",
              "      <td>1</td>\n",
              "      <td>0</td>\n",
              "      <td>1</td>\n",
              "      <td>0</td>\n",
              "      <td>0</td>\n",
              "      <td>0</td>\n",
              "    </tr>\n",
              "    <tr>\n",
              "      <th>4</th>\n",
              "      <td>1</td>\n",
              "      <td>1277212.77</td>\n",
              "      <td>C467632528</td>\n",
              "      <td>1277212.77</td>\n",
              "      <td>0.0</td>\n",
              "      <td>C716083600</td>\n",
              "      <td>0.0</td>\n",
              "      <td>2444985.19</td>\n",
              "      <td>1</td>\n",
              "      <td>1277212.77</td>\n",
              "      <td>-2444985.19</td>\n",
              "      <td>1.000000e+00</td>\n",
              "      <td>0</td>\n",
              "      <td>1</td>\n",
              "      <td>0</td>\n",
              "      <td>0</td>\n",
              "      <td>-1.0</td>\n",
              "      <td>-1.0</td>\n",
              "      <td>-1.0</td>\n",
              "      <td>2.444985e+06</td>\n",
              "      <td>0</td>\n",
              "      <td>1</td>\n",
              "      <td>89</td>\n",
              "      <td>0.0</td>\n",
              "      <td>1</td>\n",
              "      <td>0</td>\n",
              "      <td>2</td>\n",
              "      <td>0</td>\n",
              "      <td>0</td>\n",
              "      <td>1</td>\n",
              "      <td>0</td>\n",
              "      <td>1</td>\n",
              "      <td>0</td>\n",
              "      <td>0</td>\n",
              "      <td>0</td>\n",
              "    </tr>\n",
              "  </tbody>\n",
              "</table>\n",
              "</div>\n",
              "    <div class=\"colab-df-buttons\">\n",
              "\n",
              "  <div class=\"colab-df-container\">\n",
              "    <button class=\"colab-df-convert\" onclick=\"convertToInteractive('df-5d30864f-07c2-4f4a-9574-361863fbf8eb')\"\n",
              "            title=\"Convert this dataframe to an interactive table.\"\n",
              "            style=\"display:none;\">\n",
              "\n",
              "  <svg xmlns=\"http://www.w3.org/2000/svg\" height=\"24px\" viewBox=\"0 -960 960 960\">\n",
              "    <path d=\"M120-120v-720h720v720H120Zm60-500h600v-160H180v160Zm220 220h160v-160H400v160Zm0 220h160v-160H400v160ZM180-400h160v-160H180v160Zm440 0h160v-160H620v160ZM180-180h160v-160H180v160Zm440 0h160v-160H620v160Z\"/>\n",
              "  </svg>\n",
              "    </button>\n",
              "\n",
              "  <style>\n",
              "    .colab-df-container {\n",
              "      display:flex;\n",
              "      gap: 12px;\n",
              "    }\n",
              "\n",
              "    .colab-df-convert {\n",
              "      background-color: #E8F0FE;\n",
              "      border: none;\n",
              "      border-radius: 50%;\n",
              "      cursor: pointer;\n",
              "      display: none;\n",
              "      fill: #1967D2;\n",
              "      height: 32px;\n",
              "      padding: 0 0 0 0;\n",
              "      width: 32px;\n",
              "    }\n",
              "\n",
              "    .colab-df-convert:hover {\n",
              "      background-color: #E2EBFA;\n",
              "      box-shadow: 0px 1px 2px rgba(60, 64, 67, 0.3), 0px 1px 3px 1px rgba(60, 64, 67, 0.15);\n",
              "      fill: #174EA6;\n",
              "    }\n",
              "\n",
              "    .colab-df-buttons div {\n",
              "      margin-bottom: 4px;\n",
              "    }\n",
              "\n",
              "    [theme=dark] .colab-df-convert {\n",
              "      background-color: #3B4455;\n",
              "      fill: #D2E3FC;\n",
              "    }\n",
              "\n",
              "    [theme=dark] .colab-df-convert:hover {\n",
              "      background-color: #434B5C;\n",
              "      box-shadow: 0px 1px 3px 1px rgba(0, 0, 0, 0.15);\n",
              "      filter: drop-shadow(0px 1px 2px rgba(0, 0, 0, 0.3));\n",
              "      fill: #FFFFFF;\n",
              "    }\n",
              "  </style>\n",
              "\n",
              "    <script>\n",
              "      const buttonEl =\n",
              "        document.querySelector('#df-5d30864f-07c2-4f4a-9574-361863fbf8eb button.colab-df-convert');\n",
              "      buttonEl.style.display =\n",
              "        google.colab.kernel.accessAllowed ? 'block' : 'none';\n",
              "\n",
              "      async function convertToInteractive(key) {\n",
              "        const element = document.querySelector('#df-5d30864f-07c2-4f4a-9574-361863fbf8eb');\n",
              "        const dataTable =\n",
              "          await google.colab.kernel.invokeFunction('convertToInteractive',\n",
              "                                                    [key], {});\n",
              "        if (!dataTable) return;\n",
              "\n",
              "        const docLinkHtml = 'Like what you see? Visit the ' +\n",
              "          '<a target=\"_blank\" href=https://colab.research.google.com/notebooks/data_table.ipynb>data table notebook</a>'\n",
              "          + ' to learn more about interactive tables.';\n",
              "        element.innerHTML = '';\n",
              "        dataTable['output_type'] = 'display_data';\n",
              "        await google.colab.output.renderOutput(dataTable, element);\n",
              "        const docLink = document.createElement('div');\n",
              "        docLink.innerHTML = docLinkHtml;\n",
              "        element.appendChild(docLink);\n",
              "      }\n",
              "    </script>\n",
              "  </div>\n",
              "\n",
              "\n",
              "    <div id=\"df-0ef5c446-03b3-4b37-8cf5-365255fc02e7\">\n",
              "      <button class=\"colab-df-quickchart\" onclick=\"quickchart('df-0ef5c446-03b3-4b37-8cf5-365255fc02e7')\"\n",
              "                title=\"Suggest charts\"\n",
              "                style=\"display:none;\">\n",
              "\n",
              "<svg xmlns=\"http://www.w3.org/2000/svg\" height=\"24px\"viewBox=\"0 0 24 24\"\n",
              "     width=\"24px\">\n",
              "    <g>\n",
              "        <path d=\"M19 3H5c-1.1 0-2 .9-2 2v14c0 1.1.9 2 2 2h14c1.1 0 2-.9 2-2V5c0-1.1-.9-2-2-2zM9 17H7v-7h2v7zm4 0h-2V7h2v10zm4 0h-2v-4h2v4z\"/>\n",
              "    </g>\n",
              "</svg>\n",
              "      </button>\n",
              "\n",
              "<style>\n",
              "  .colab-df-quickchart {\n",
              "      --bg-color: #E8F0FE;\n",
              "      --fill-color: #1967D2;\n",
              "      --hover-bg-color: #E2EBFA;\n",
              "      --hover-fill-color: #174EA6;\n",
              "      --disabled-fill-color: #AAA;\n",
              "      --disabled-bg-color: #DDD;\n",
              "  }\n",
              "\n",
              "  [theme=dark] .colab-df-quickchart {\n",
              "      --bg-color: #3B4455;\n",
              "      --fill-color: #D2E3FC;\n",
              "      --hover-bg-color: #434B5C;\n",
              "      --hover-fill-color: #FFFFFF;\n",
              "      --disabled-bg-color: #3B4455;\n",
              "      --disabled-fill-color: #666;\n",
              "  }\n",
              "\n",
              "  .colab-df-quickchart {\n",
              "    background-color: var(--bg-color);\n",
              "    border: none;\n",
              "    border-radius: 50%;\n",
              "    cursor: pointer;\n",
              "    display: none;\n",
              "    fill: var(--fill-color);\n",
              "    height: 32px;\n",
              "    padding: 0;\n",
              "    width: 32px;\n",
              "  }\n",
              "\n",
              "  .colab-df-quickchart:hover {\n",
              "    background-color: var(--hover-bg-color);\n",
              "    box-shadow: 0 1px 2px rgba(60, 64, 67, 0.3), 0 1px 3px 1px rgba(60, 64, 67, 0.15);\n",
              "    fill: var(--button-hover-fill-color);\n",
              "  }\n",
              "\n",
              "  .colab-df-quickchart-complete:disabled,\n",
              "  .colab-df-quickchart-complete:disabled:hover {\n",
              "    background-color: var(--disabled-bg-color);\n",
              "    fill: var(--disabled-fill-color);\n",
              "    box-shadow: none;\n",
              "  }\n",
              "\n",
              "  .colab-df-spinner {\n",
              "    border: 2px solid var(--fill-color);\n",
              "    border-color: transparent;\n",
              "    border-bottom-color: var(--fill-color);\n",
              "    animation:\n",
              "      spin 1s steps(1) infinite;\n",
              "  }\n",
              "\n",
              "  @keyframes spin {\n",
              "    0% {\n",
              "      border-color: transparent;\n",
              "      border-bottom-color: var(--fill-color);\n",
              "      border-left-color: var(--fill-color);\n",
              "    }\n",
              "    20% {\n",
              "      border-color: transparent;\n",
              "      border-left-color: var(--fill-color);\n",
              "      border-top-color: var(--fill-color);\n",
              "    }\n",
              "    30% {\n",
              "      border-color: transparent;\n",
              "      border-left-color: var(--fill-color);\n",
              "      border-top-color: var(--fill-color);\n",
              "      border-right-color: var(--fill-color);\n",
              "    }\n",
              "    40% {\n",
              "      border-color: transparent;\n",
              "      border-right-color: var(--fill-color);\n",
              "      border-top-color: var(--fill-color);\n",
              "    }\n",
              "    60% {\n",
              "      border-color: transparent;\n",
              "      border-right-color: var(--fill-color);\n",
              "    }\n",
              "    80% {\n",
              "      border-color: transparent;\n",
              "      border-right-color: var(--fill-color);\n",
              "      border-bottom-color: var(--fill-color);\n",
              "    }\n",
              "    90% {\n",
              "      border-color: transparent;\n",
              "      border-bottom-color: var(--fill-color);\n",
              "    }\n",
              "  }\n",
              "</style>\n",
              "\n",
              "      <script>\n",
              "        async function quickchart(key) {\n",
              "          const quickchartButtonEl =\n",
              "            document.querySelector('#' + key + ' button');\n",
              "          quickchartButtonEl.disabled = true;  // To prevent multiple clicks.\n",
              "          quickchartButtonEl.classList.add('colab-df-spinner');\n",
              "          try {\n",
              "            const charts = await google.colab.kernel.invokeFunction(\n",
              "                'suggestCharts', [key], {});\n",
              "          } catch (error) {\n",
              "            console.error('Error during call to suggestCharts:', error);\n",
              "          }\n",
              "          quickchartButtonEl.classList.remove('colab-df-spinner');\n",
              "          quickchartButtonEl.classList.add('colab-df-quickchart-complete');\n",
              "        }\n",
              "        (() => {\n",
              "          let quickchartButtonEl =\n",
              "            document.querySelector('#df-0ef5c446-03b3-4b37-8cf5-365255fc02e7 button');\n",
              "          quickchartButtonEl.style.display =\n",
              "            google.colab.kernel.accessAllowed ? 'block' : 'none';\n",
              "        })();\n",
              "      </script>\n",
              "    </div>\n",
              "\n",
              "    </div>\n",
              "  </div>\n"
            ],
            "application/vnd.google.colaboratory.intrinsic+json": {
              "type": "dataframe",
              "variable_name": "df_encoded"
            }
          },
          "metadata": {},
          "execution_count": 59
        }
      ],
      "source": [
        "# Using One Hot Encoding to encode categorical variables\n",
        "df_encoded = pd.get_dummies(df_pandas, columns = ['type'], dtype = int)\n",
        "\n",
        "df_encoded.head()"
      ]
    },
    {
      "cell_type": "code",
      "execution_count": 60,
      "metadata": {
        "colab": {
          "base_uri": "https://localhost:8080/"
        },
        "id": "BIEZk5lUdUa1",
        "outputId": "0afadb3e-b512-4d13-af01-de4dc2106dbb"
      },
      "outputs": [
        {
          "output_type": "stream",
          "name": "stdout",
          "text": [
            "<class 'pandas.core.frame.DataFrame'>\n",
            "RangeIndex: 829502 entries, 0 to 829501\n",
            "Data columns (total 35 columns):\n",
            " #   Column                   Non-Null Count   Dtype  \n",
            "---  ------                   --------------   -----  \n",
            " 0   step                     829502 non-null  int32  \n",
            " 1   amount                   829502 non-null  float64\n",
            " 2   nameOrig                 829502 non-null  object \n",
            " 3   oldbalanceOrg            829502 non-null  float64\n",
            " 4   newbalanceOrig           829502 non-null  float64\n",
            " 5   nameDest                 829502 non-null  object \n",
            " 6   oldbalanceDest           829502 non-null  float64\n",
            " 7   newbalanceDest           829502 non-null  float64\n",
            " 8   isFraud                  829502 non-null  int32  \n",
            " 9   balance_diff_orig        829502 non-null  float64\n",
            " 10  balance_diff_dest        829502 non-null  float64\n",
            " 11  amount_to_balance_ratio  829502 non-null  float64\n",
            " 12  is_zero_balance          829502 non-null  int32  \n",
            " 13  hour_of_the_day          829502 non-null  int32  \n",
            " 14  day_of_the_week          829502 non-null  int32  \n",
            " 15  is_weekend               829502 non-null  int32  \n",
            " 16  rolling_balance_change   829502 non-null  float64\n",
            " 17  rolling_amount_mean_12h  829502 non-null  float64\n",
            " 18  balance_volatility_12    829502 non-null  float64\n",
            " 19  dest_balance_change_12h  829502 non-null  float64\n",
            " 20  account_age              829502 non-null  int32  \n",
            " 21  account_activity         829502 non-null  int64  \n",
            " 22  dest_txn_count           829502 non-null  int64  \n",
            " 23  balance_recovery_ratio   829502 non-null  float64\n",
            " 24  is_high_amount           829502 non-null  int32  \n",
            " 25  txn_count_6h             829502 non-null  int64  \n",
            " 26  dest_txn_count_6h        829502 non-null  int64  \n",
            " 27  is_frequent_sender       829502 non-null  int32  \n",
            " 28  is_frequent_receiver     829502 non-null  int32  \n",
            " 29  is_new_account           829502 non-null  int32  \n",
            " 30  type_CASH_IN             829502 non-null  int64  \n",
            " 31  type_CASH_OUT            829502 non-null  int64  \n",
            " 32  type_DEBIT               829502 non-null  int64  \n",
            " 33  type_PAYMENT             829502 non-null  int64  \n",
            " 34  type_TRANSFER            829502 non-null  int64  \n",
            "dtypes: float64(13), int32(11), int64(9), object(2)\n",
            "memory usage: 186.7+ MB\n"
          ]
        }
      ],
      "source": [
        "df_encoded.info()"
      ]
    },
    {
      "cell_type": "markdown",
      "metadata": {
        "id": "bHXQD2VufgPM"
      },
      "source": [
        "#### Feature Scaling - on the training data to avoid data leakage"
      ]
    },
    {
      "cell_type": "code",
      "execution_count": 61,
      "metadata": {
        "id": "POtAsIozfdQt"
      },
      "outputs": [],
      "source": [
        "X = df_encoded.drop(['nameOrig', 'nameDest', 'isFraud'], axis = 1)\n",
        "y = df_encoded['isFraud']   # only for evaluation\n",
        "\n",
        "X_train, X_test, y_train, y_test = train_test_split(X, y, test_size = 0.2, stratify = y, random_state = 42)"
      ]
    },
    {
      "cell_type": "code",
      "execution_count": 63,
      "metadata": {
        "id": "yRJagtfNhnT2"
      },
      "outputs": [],
      "source": [
        "# Scale the numerical features in the training dataset\n",
        "numeric_cols = [col for col in X.columns if X[col].nunique() >2]\n",
        "binary_cols = [col for col in X.columns if X[col].nunique() <=2]\n",
        "\n",
        "scaler = StandardScaler()\n",
        "X_train_num = pd.DataFrame( scaler.fit_transform(X_train[numeric_cols]), columns = numeric_cols, index = X_train.index )  # as scaler returns a NumPy Array\n",
        "X_train_scaled = pd.concat([X_train_num, X_train[binary_cols] ], axis = 1)\n",
        "\n",
        "X_test_num = pd.DataFrame( scaler.transform(X_test[numeric_cols]), columns = numeric_cols, index = X_test.index )\n",
        "X_test_scaled = pd.concat([X_test_num, X_test[binary_cols] ], axis = 1)"
      ]
    },
    {
      "cell_type": "markdown",
      "metadata": {
        "id": "Caitk7poo1lT"
      },
      "source": [
        "### **D) Model Training and Evaluation**"
      ]
    },
    {
      "cell_type": "markdown",
      "metadata": {
        "id": "jLKAZ80Do9Sn"
      },
      "source": [
        "#### Unsupervised ML Algorithms used - Isolation Forest, K-Nearest Neighbours and LOF (Local Outlier Factor)"
      ]
    },
    {
      "cell_type": "code",
      "source": [
        "# Defining a Scoring function for GridSearchCV to score the model for identifying the best parameters\n",
        "def anomaly_recall(y_test, y_pred):\n",
        "  return recall_score(y_test, y_pred)\n",
        "\n",
        "scorer = make_scorer(anomaly_recall)"
      ],
      "metadata": {
        "id": "KfuD9sK1vnhI"
      },
      "execution_count": 64,
      "outputs": []
    },
    {
      "cell_type": "code",
      "source": [
        "# Defining hyper-parameter grids\n",
        "\n",
        "iforest_params = {'n_estimators': [100, 200],\n",
        "    'max_samples': ['auto', 0.8], 'contamination': [0.01, 0.02]}\n",
        "\n",
        "knn_params = {'n_neighbors': [5, 10], 'method': ['largest', 'median'],\n",
        "              'contamination': [0.1, 0.2] }\n",
        "\n",
        "lof_params = { 'n_neighbors': [10, 20],\n",
        "               'contamination': [0.1, 0.2],\n",
        "               'metric':['euclidean']}"
      ],
      "metadata": {
        "id": "TDKwffCIwEs3"
      },
      "execution_count": 65,
      "outputs": []
    },
    {
      "cell_type": "code",
      "execution_count": 66,
      "metadata": {
        "colab": {
          "base_uri": "https://localhost:8080/"
        },
        "id": "QImUZUM1k9PI",
        "outputId": "3f8a19e4-9c98-4b40-f6ce-276e72aac88b"
      },
      "outputs": [
        {
          "output_type": "stream",
          "name": "stdout",
          "text": [
            "Best IForest Params: {'contamination': 0.02, 'max_samples': 0.8, 'n_estimators': 100}\n"
          ]
        }
      ],
      "source": [
        "# Model Training\n",
        "iforest_grid = GridSearchCV(IForest(random_state = 42, n_jobs =-1), iforest_params, scoring=scorer, cv=3)\n",
        "iforest_grid.fit(X_train_scaled, y_train)\n",
        "print(\"Best IForest Params:\", iforest_grid.best_params_)"
      ]
    },
    {
      "cell_type": "markdown",
      "source": [
        "#### Downsampling the data further to feed into KNN and LOF and evaluate their performance"
      ],
      "metadata": {
        "id": "IzTipU7C5cae"
      }
    },
    {
      "cell_type": "code",
      "source": [
        "fraud_downsampled = df_encoded[df_encoded['isFraud'] == 1].sample(n = 150, random_state = 42)  # To preserve the original fraud:non-fraud ratio of 1:100\n",
        "nonfraud_downsampled = df_encoded[df_encoded['isFraud'] == 0].sample(n = 150000, random_state = 42)\n",
        "df_reduced = pd.concat([fraud_downsampled, nonfraud_downsampled], axis = 0)\n",
        "\n",
        "X_reduced = df_reduced.drop('isFraud', axis = 1)\n",
        "y_reduced = df_reduced['isFraud']\n",
        "X_train_red, X_test_red, y_train_red, y_test_red = train_test_split(X_reduced, y_reduced, test_size = 0.2, stratify= y_reduced, random_state = 42)\n",
        "\n",
        "scaler_downsampled = StandardScaler()\n",
        "X_train_red_scaled =  pd.concat( [pd.DataFrame(scaler_downsampled.fit_transform(X_train_red[numeric_cols]), columns = numeric_cols, index = X_train_red.index ), X_train_red[binary_cols]] , axis = 1)\n",
        "X_test_red_scaled = pd.concat( [pd.DataFrame(scaler_downsampled.transform(X_test_red[numeric_cols]), columns = numeric_cols, index = X_test_red.index), X_test_red[binary_cols]] , axis = 1 )\n"
      ],
      "metadata": {
        "id": "6SQdhWsZ5b0_"
      },
      "execution_count": 76,
      "outputs": []
    },
    {
      "cell_type": "code",
      "execution_count": 69,
      "metadata": {
        "colab": {
          "base_uri": "https://localhost:8080/"
        },
        "id": "Sef347waswqk",
        "outputId": "146cc42d-43a2-41b6-8add-c3f78ad5e916"
      },
      "outputs": [
        {
          "output_type": "stream",
          "name": "stdout",
          "text": [
            "Best KNN Params: {'contamination': 0.2, 'method': 'largest', 'n_neighbors': 5}\n"
          ]
        }
      ],
      "source": [
        "knn_grid = GridSearchCV(KNN(n_jobs = -1), knn_params, scoring=scorer, cv=3)\n",
        "knn_grid.fit(X_train_red_scaled[:10000], y_train_red[:10000])\n",
        "print(\"Best KNN Params:\", knn_grid.best_params_)"
      ]
    },
    {
      "cell_type": "code",
      "execution_count": 70,
      "metadata": {
        "id": "GZN00Ht8syRw",
        "colab": {
          "base_uri": "https://localhost:8080/"
        },
        "outputId": "73c96a52-042a-4172-9718-685ba6dd9b62"
      },
      "outputs": [
        {
          "output_type": "stream",
          "name": "stdout",
          "text": [
            "Best LOF Params: {'contamination': 0.2, 'metric': 'euclidean', 'n_neighbors': 10}\n"
          ]
        }
      ],
      "source": [
        "lof_grid = GridSearchCV(LOF(n_jobs = -1), lof_params, scoring=scorer, cv=3)\n",
        "lof_grid.fit(X_train_red_scaled[:10000], y_train_red[:10000])\n",
        "print(\"Best LOF Params:\", lof_grid.best_params_)"
      ]
    },
    {
      "cell_type": "code",
      "source": [
        "# Model Predictions on Test set\n",
        "\n",
        "#iforest_preds = iforest_grid.predict(X_test_scaled)\n",
        "iforest_anomaly_scores = iforest_grid.decision_function(X_test_scaled)\n",
        "threshold = np.percentile(iforest_anomaly_scores, 75)\n",
        "iforest_preds = (iforest_anomaly_scores > threshold).astype(int)"
      ],
      "metadata": {
        "id": "TZpp1EdrycHb"
      },
      "execution_count": 81,
      "outputs": []
    },
    {
      "cell_type": "code",
      "source": [
        "knn_preds = knn_grid.predict(X_test_red_scaled)\n",
        "knn_anomaly_scores = knn_grid.decision_function(X_test_red_scaled)"
      ],
      "metadata": {
        "id": "ku57PdEyjkNI"
      },
      "execution_count": 78,
      "outputs": []
    },
    {
      "cell_type": "code",
      "source": [
        "lof_preds = lof_grid.predict(X_test_red_scaled)\n",
        "lof_anomaly_scores = lof_grid.decision_function(X_test_red_scaled)"
      ],
      "metadata": {
        "id": "Si_PZsf5jlkV"
      },
      "execution_count": 79,
      "outputs": []
    },
    {
      "cell_type": "markdown",
      "source": [
        "#### Model Evaluation and Benchmarking"
      ],
      "metadata": {
        "id": "CUsOI39KNTqe"
      }
    },
    {
      "cell_type": "code",
      "execution_count": 82,
      "metadata": {
        "id": "S7-pdJOAkuJF",
        "colab": {
          "base_uri": "https://localhost:8080/"
        },
        "outputId": "6a784b71-684d-4f57-82ec-28126067e5db"
      },
      "outputs": [
        {
          "output_type": "stream",
          "name": "stdout",
          "text": [
            "Classfication Report of Isolation Forest: \n",
            "               precision    recall  f1-score        support\n",
            "0              0.998264  0.756188  0.860526  164258.000000\n",
            "1              0.034406  0.868533  0.066190    1643.000000\n",
            "accuracy       0.757301  0.757301  0.757301       0.757301\n",
            "macro avg      0.516335  0.812361  0.463358  165901.000000\n",
            "weighted avg   0.988718  0.757301  0.852659  165901.000000\n",
            "The Confusion Matrix for Isolation Forest: \n",
            " [[124210  40048]\n",
            " [   216   1427]]\n",
            "============================================================\n",
            "Classfication Report of K-Nearest Neighbors: \n",
            "               precision    recall  f1-score      support\n",
            "0              0.999959  0.803567  0.891070  30000.00000\n",
            "1              0.004897  0.966667  0.009745     30.00000\n",
            "accuracy       0.803730  0.803730  0.803730      0.80373\n",
            "macro avg      0.502428  0.885117  0.450407  30030.00000\n",
            "weighted avg   0.998964  0.803730  0.890189  30030.00000\n",
            "The Confusion Matrix for K-Nearest Neighbors: \n",
            " [[24107  5893]\n",
            " [    1    29]]\n",
            "============================================================\n",
            "Classfication Report of Local Outlier Factor: \n",
            "               precision    recall  f1-score       support\n",
            "0              1.000000  0.791167  0.883409  30000.000000\n",
            "1              0.004766  1.000000  0.009486     30.000000\n",
            "accuracy       0.791375  0.791375  0.791375      0.791375\n",
            "macro avg      0.502383  0.895583  0.446448  30030.000000\n",
            "weighted avg   0.999006  0.791375  0.882536  30030.000000\n",
            "The Confusion Matrix for Local Outlier Factor: \n",
            " [[23735  6265]\n",
            " [    0    30]]\n",
            "============================================================\n"
          ]
        }
      ],
      "source": [
        "# Classification Report and Confusion Matrix for each model\n",
        "\n",
        "reports = {}\n",
        "\n",
        "for grid, name in zip([iforest_grid, knn_grid, lof_grid], ['Isolation Forest', 'K-Nearest Neighbors', 'Local Outlier Factor']):\n",
        "  if name == 'Isolation Forest':\n",
        "    preds = iforest_preds\n",
        "    y_true = y_test\n",
        "    X_eval = X_test_scaled\n",
        "  else:\n",
        "    preds = grid.predict(X_test_red_scaled)\n",
        "    y_true = y_test_red\n",
        "    X_eval = X_test_red_scaled\n",
        "\n",
        "  class_report = pd.DataFrame(classification_report(y_true, preds, output_dict=True)).transpose()\n",
        "  conf_matrix = confusion_matrix(y_true, preds)\n",
        "  anomaly_score = grid.decision_function(X_eval)\n",
        "  reports[name] = { 'report':  class_report,\n",
        "                    'confusion_matrix' : conf_matrix,\n",
        "                    'anomaly_scores': anomaly_score}\n",
        "  print(f'Classfication Report of {name}: \\n {class_report}')\n",
        "  print(f'The Confusion Matrix for {name}: \\n {conf_matrix}' )\n",
        "  print('='*60)\n",
        "\n",
        "\n",
        "\n"
      ]
    },
    {
      "cell_type": "markdown",
      "source": [
        "### **E) Saving the models and the features for deployment on Streamlit**"
      ],
      "metadata": {
        "id": "Q0pSyRAg6LUX"
      }
    },
    {
      "cell_type": "code",
      "source": [
        "joblib.dump(iforest_grid, \"iforest_model.pkl\")\n",
        "joblib.dump(knn_grid, \"knn_model.pkl\")\n",
        "joblib.dump(lof_grid, \"lof_model.pkl\")"
      ],
      "metadata": {
        "colab": {
          "base_uri": "https://localhost:8080/"
        },
        "id": "VUIPHq9aytUI",
        "outputId": "adb7ac01-31ed-42ec-b09a-cbc75c65c049"
      },
      "execution_count": 85,
      "outputs": [
        {
          "output_type": "execute_result",
          "data": {
            "text/plain": [
              "['lof_model.pkl']"
            ]
          },
          "metadata": {},
          "execution_count": 85
        }
      ]
    },
    {
      "cell_type": "code",
      "source": [
        "# Download each model file\n",
        "files.download(\"iforest_model.pkl\")\n",
        "files.download(\"knn_model.pkl\")\n",
        "files.download(\"lof_model.pkl\")"
      ],
      "metadata": {
        "colab": {
          "base_uri": "https://localhost:8080/",
          "height": 17
        },
        "id": "k2fhWrMZzn0A",
        "outputId": "c607d100-3b02-475e-f817-600b2e5d5ec2"
      },
      "execution_count": 86,
      "outputs": [
        {
          "output_type": "display_data",
          "data": {
            "text/plain": [
              "<IPython.core.display.Javascript object>"
            ],
            "application/javascript": [
              "\n",
              "    async function download(id, filename, size) {\n",
              "      if (!google.colab.kernel.accessAllowed) {\n",
              "        return;\n",
              "      }\n",
              "      const div = document.createElement('div');\n",
              "      const label = document.createElement('label');\n",
              "      label.textContent = `Downloading \"${filename}\": `;\n",
              "      div.appendChild(label);\n",
              "      const progress = document.createElement('progress');\n",
              "      progress.max = size;\n",
              "      div.appendChild(progress);\n",
              "      document.body.appendChild(div);\n",
              "\n",
              "      const buffers = [];\n",
              "      let downloaded = 0;\n",
              "\n",
              "      const channel = await google.colab.kernel.comms.open(id);\n",
              "      // Send a message to notify the kernel that we're ready.\n",
              "      channel.send({})\n",
              "\n",
              "      for await (const message of channel.messages) {\n",
              "        // Send a message to notify the kernel that we're ready.\n",
              "        channel.send({})\n",
              "        if (message.buffers) {\n",
              "          for (const buffer of message.buffers) {\n",
              "            buffers.push(buffer);\n",
              "            downloaded += buffer.byteLength;\n",
              "            progress.value = downloaded;\n",
              "          }\n",
              "        }\n",
              "      }\n",
              "      const blob = new Blob(buffers, {type: 'application/binary'});\n",
              "      const a = document.createElement('a');\n",
              "      a.href = window.URL.createObjectURL(blob);\n",
              "      a.download = filename;\n",
              "      div.appendChild(a);\n",
              "      a.click();\n",
              "      div.remove();\n",
              "    }\n",
              "  "
            ]
          },
          "metadata": {}
        },
        {
          "output_type": "display_data",
          "data": {
            "text/plain": [
              "<IPython.core.display.Javascript object>"
            ],
            "application/javascript": [
              "download(\"download_a5225e71-7f58-421f-bb90-b927b428b5ae\", \"iforest_model.pkl\", 130126975)"
            ]
          },
          "metadata": {}
        },
        {
          "output_type": "display_data",
          "data": {
            "text/plain": [
              "<IPython.core.display.Javascript object>"
            ],
            "application/javascript": [
              "\n",
              "    async function download(id, filename, size) {\n",
              "      if (!google.colab.kernel.accessAllowed) {\n",
              "        return;\n",
              "      }\n",
              "      const div = document.createElement('div');\n",
              "      const label = document.createElement('label');\n",
              "      label.textContent = `Downloading \"${filename}\": `;\n",
              "      div.appendChild(label);\n",
              "      const progress = document.createElement('progress');\n",
              "      progress.max = size;\n",
              "      div.appendChild(progress);\n",
              "      document.body.appendChild(div);\n",
              "\n",
              "      const buffers = [];\n",
              "      let downloaded = 0;\n",
              "\n",
              "      const channel = await google.colab.kernel.comms.open(id);\n",
              "      // Send a message to notify the kernel that we're ready.\n",
              "      channel.send({})\n",
              "\n",
              "      for await (const message of channel.messages) {\n",
              "        // Send a message to notify the kernel that we're ready.\n",
              "        channel.send({})\n",
              "        if (message.buffers) {\n",
              "          for (const buffer of message.buffers) {\n",
              "            buffers.push(buffer);\n",
              "            downloaded += buffer.byteLength;\n",
              "            progress.value = downloaded;\n",
              "          }\n",
              "        }\n",
              "      }\n",
              "      const blob = new Blob(buffers, {type: 'application/binary'});\n",
              "      const a = document.createElement('a');\n",
              "      a.href = window.URL.createObjectURL(blob);\n",
              "      a.download = filename;\n",
              "      div.appendChild(a);\n",
              "      a.click();\n",
              "      div.remove();\n",
              "    }\n",
              "  "
            ]
          },
          "metadata": {}
        },
        {
          "output_type": "display_data",
          "data": {
            "text/plain": [
              "<IPython.core.display.Javascript object>"
            ],
            "application/javascript": [
              "download(\"download_4cfe56d6-c69c-46cd-b821-58b58247d199\", \"knn_model.pkl\", 5511551)"
            ]
          },
          "metadata": {}
        },
        {
          "output_type": "display_data",
          "data": {
            "text/plain": [
              "<IPython.core.display.Javascript object>"
            ],
            "application/javascript": [
              "\n",
              "    async function download(id, filename, size) {\n",
              "      if (!google.colab.kernel.accessAllowed) {\n",
              "        return;\n",
              "      }\n",
              "      const div = document.createElement('div');\n",
              "      const label = document.createElement('label');\n",
              "      label.textContent = `Downloading \"${filename}\": `;\n",
              "      div.appendChild(label);\n",
              "      const progress = document.createElement('progress');\n",
              "      progress.max = size;\n",
              "      div.appendChild(progress);\n",
              "      document.body.appendChild(div);\n",
              "\n",
              "      const buffers = [];\n",
              "      let downloaded = 0;\n",
              "\n",
              "      const channel = await google.colab.kernel.comms.open(id);\n",
              "      // Send a message to notify the kernel that we're ready.\n",
              "      channel.send({})\n",
              "\n",
              "      for await (const message of channel.messages) {\n",
              "        // Send a message to notify the kernel that we're ready.\n",
              "        channel.send({})\n",
              "        if (message.buffers) {\n",
              "          for (const buffer of message.buffers) {\n",
              "            buffers.push(buffer);\n",
              "            downloaded += buffer.byteLength;\n",
              "            progress.value = downloaded;\n",
              "          }\n",
              "        }\n",
              "      }\n",
              "      const blob = new Blob(buffers, {type: 'application/binary'});\n",
              "      const a = document.createElement('a');\n",
              "      a.href = window.URL.createObjectURL(blob);\n",
              "      a.download = filename;\n",
              "      div.appendChild(a);\n",
              "      a.click();\n",
              "      div.remove();\n",
              "    }\n",
              "  "
            ]
          },
          "metadata": {}
        },
        {
          "output_type": "display_data",
          "data": {
            "text/plain": [
              "<IPython.core.display.Javascript object>"
            ],
            "application/javascript": [
              "download(\"download_b3509cb0-34c9-48e3-8dbb-367c6605e96a\", \"lof_model.pkl\", 3683407)"
            ]
          },
          "metadata": {}
        }
      ]
    },
    {
      "cell_type": "code",
      "source": [
        "# Downloading the test data for displaying the top N fraud cases\n",
        "X_test_display = X_test.drop(columns = [col for col in X_test.columns if 'type' in col])\n",
        "X_test_display[\"true_label\"] = y_test\n",
        "X_test_display[\"nameOrig\"] = df_pandas.loc[X_test.index, \"nameOrig\"]\n",
        "X_test_display[\"nameDest\"] = df_pandas.loc[X_test.index, \"nameDest\"]\n",
        "X_test_display[\"type\"] = df_pandas.loc[X_test.index, \"type\"]\n",
        "\n",
        "# Save for Streamlit\n",
        "X_test_display.to_csv(\"X_test_display.csv\", index=False)\n"
      ],
      "metadata": {
        "id": "UH0-l4K-6KWk"
      },
      "execution_count": 87,
      "outputs": []
    },
    {
      "cell_type": "code",
      "source": [
        "# downloading the numpy scaled test and training data to serve the model on streamlit\n",
        "\n",
        "np.save('X_test_scaled.npy', X_test_scaled)\n",
        "np.save('X_train_scaled.npy', X_train_scaled)\n",
        "np.save('y_test.npy', y_test)\n",
        "np.save('y_train.npy', y_train)"
      ],
      "metadata": {
        "id": "wJwnvxV08rMt"
      },
      "execution_count": 91,
      "outputs": []
    },
    {
      "cell_type": "code",
      "source": [
        "files.download(\"X_test_display.csv\")\n",
        "files.download(\"X_test_scaled.npy\")\n",
        "files.download('X_train_scaled.npy')\n",
        "files.download('y_test.npy')\n",
        "files.download('y_train.npy')"
      ],
      "metadata": {
        "colab": {
          "base_uri": "https://localhost:8080/",
          "height": 17
        },
        "id": "d_goUPjb-p-B",
        "outputId": "33cc0c72-4e14-4e15-def6-3be55cbf0828"
      },
      "execution_count": 92,
      "outputs": [
        {
          "output_type": "display_data",
          "data": {
            "text/plain": [
              "<IPython.core.display.Javascript object>"
            ],
            "application/javascript": [
              "\n",
              "    async function download(id, filename, size) {\n",
              "      if (!google.colab.kernel.accessAllowed) {\n",
              "        return;\n",
              "      }\n",
              "      const div = document.createElement('div');\n",
              "      const label = document.createElement('label');\n",
              "      label.textContent = `Downloading \"${filename}\": `;\n",
              "      div.appendChild(label);\n",
              "      const progress = document.createElement('progress');\n",
              "      progress.max = size;\n",
              "      div.appendChild(progress);\n",
              "      document.body.appendChild(div);\n",
              "\n",
              "      const buffers = [];\n",
              "      let downloaded = 0;\n",
              "\n",
              "      const channel = await google.colab.kernel.comms.open(id);\n",
              "      // Send a message to notify the kernel that we're ready.\n",
              "      channel.send({})\n",
              "\n",
              "      for await (const message of channel.messages) {\n",
              "        // Send a message to notify the kernel that we're ready.\n",
              "        channel.send({})\n",
              "        if (message.buffers) {\n",
              "          for (const buffer of message.buffers) {\n",
              "            buffers.push(buffer);\n",
              "            downloaded += buffer.byteLength;\n",
              "            progress.value = downloaded;\n",
              "          }\n",
              "        }\n",
              "      }\n",
              "      const blob = new Blob(buffers, {type: 'application/binary'});\n",
              "      const a = document.createElement('a');\n",
              "      a.href = window.URL.createObjectURL(blob);\n",
              "      a.download = filename;\n",
              "      div.appendChild(a);\n",
              "      a.click();\n",
              "      div.remove();\n",
              "    }\n",
              "  "
            ]
          },
          "metadata": {}
        },
        {
          "output_type": "display_data",
          "data": {
            "text/plain": [
              "<IPython.core.display.Javascript object>"
            ],
            "application/javascript": [
              "download(\"download_f2c8087d-f403-44aa-a227-3e38cfe08ec6\", \"X_test_display.csv\", 29563563)"
            ]
          },
          "metadata": {}
        },
        {
          "output_type": "display_data",
          "data": {
            "text/plain": [
              "<IPython.core.display.Javascript object>"
            ],
            "application/javascript": [
              "\n",
              "    async function download(id, filename, size) {\n",
              "      if (!google.colab.kernel.accessAllowed) {\n",
              "        return;\n",
              "      }\n",
              "      const div = document.createElement('div');\n",
              "      const label = document.createElement('label');\n",
              "      label.textContent = `Downloading \"${filename}\": `;\n",
              "      div.appendChild(label);\n",
              "      const progress = document.createElement('progress');\n",
              "      progress.max = size;\n",
              "      div.appendChild(progress);\n",
              "      document.body.appendChild(div);\n",
              "\n",
              "      const buffers = [];\n",
              "      let downloaded = 0;\n",
              "\n",
              "      const channel = await google.colab.kernel.comms.open(id);\n",
              "      // Send a message to notify the kernel that we're ready.\n",
              "      channel.send({})\n",
              "\n",
              "      for await (const message of channel.messages) {\n",
              "        // Send a message to notify the kernel that we're ready.\n",
              "        channel.send({})\n",
              "        if (message.buffers) {\n",
              "          for (const buffer of message.buffers) {\n",
              "            buffers.push(buffer);\n",
              "            downloaded += buffer.byteLength;\n",
              "            progress.value = downloaded;\n",
              "          }\n",
              "        }\n",
              "      }\n",
              "      const blob = new Blob(buffers, {type: 'application/binary'});\n",
              "      const a = document.createElement('a');\n",
              "      a.href = window.URL.createObjectURL(blob);\n",
              "      a.download = filename;\n",
              "      div.appendChild(a);\n",
              "      a.click();\n",
              "      div.remove();\n",
              "    }\n",
              "  "
            ]
          },
          "metadata": {}
        },
        {
          "output_type": "display_data",
          "data": {
            "text/plain": [
              "<IPython.core.display.Javascript object>"
            ],
            "application/javascript": [
              "download(\"download_622819a1-377d-436c-aae9-e638221cd929\", \"X_test_scaled.npy\", 42470784)"
            ]
          },
          "metadata": {}
        },
        {
          "output_type": "display_data",
          "data": {
            "text/plain": [
              "<IPython.core.display.Javascript object>"
            ],
            "application/javascript": [
              "\n",
              "    async function download(id, filename, size) {\n",
              "      if (!google.colab.kernel.accessAllowed) {\n",
              "        return;\n",
              "      }\n",
              "      const div = document.createElement('div');\n",
              "      const label = document.createElement('label');\n",
              "      label.textContent = `Downloading \"${filename}\": `;\n",
              "      div.appendChild(label);\n",
              "      const progress = document.createElement('progress');\n",
              "      progress.max = size;\n",
              "      div.appendChild(progress);\n",
              "      document.body.appendChild(div);\n",
              "\n",
              "      const buffers = [];\n",
              "      let downloaded = 0;\n",
              "\n",
              "      const channel = await google.colab.kernel.comms.open(id);\n",
              "      // Send a message to notify the kernel that we're ready.\n",
              "      channel.send({})\n",
              "\n",
              "      for await (const message of channel.messages) {\n",
              "        // Send a message to notify the kernel that we're ready.\n",
              "        channel.send({})\n",
              "        if (message.buffers) {\n",
              "          for (const buffer of message.buffers) {\n",
              "            buffers.push(buffer);\n",
              "            downloaded += buffer.byteLength;\n",
              "            progress.value = downloaded;\n",
              "          }\n",
              "        }\n",
              "      }\n",
              "      const blob = new Blob(buffers, {type: 'application/binary'});\n",
              "      const a = document.createElement('a');\n",
              "      a.href = window.URL.createObjectURL(blob);\n",
              "      a.download = filename;\n",
              "      div.appendChild(a);\n",
              "      a.click();\n",
              "      div.remove();\n",
              "    }\n",
              "  "
            ]
          },
          "metadata": {}
        },
        {
          "output_type": "display_data",
          "data": {
            "text/plain": [
              "<IPython.core.display.Javascript object>"
            ],
            "application/javascript": [
              "download(\"download_bf5fbc41-0f10-49cf-9ba4-1f4f6480c850\", \"X_train_scaled.npy\", 169881984)"
            ]
          },
          "metadata": {}
        },
        {
          "output_type": "display_data",
          "data": {
            "text/plain": [
              "<IPython.core.display.Javascript object>"
            ],
            "application/javascript": [
              "\n",
              "    async function download(id, filename, size) {\n",
              "      if (!google.colab.kernel.accessAllowed) {\n",
              "        return;\n",
              "      }\n",
              "      const div = document.createElement('div');\n",
              "      const label = document.createElement('label');\n",
              "      label.textContent = `Downloading \"${filename}\": `;\n",
              "      div.appendChild(label);\n",
              "      const progress = document.createElement('progress');\n",
              "      progress.max = size;\n",
              "      div.appendChild(progress);\n",
              "      document.body.appendChild(div);\n",
              "\n",
              "      const buffers = [];\n",
              "      let downloaded = 0;\n",
              "\n",
              "      const channel = await google.colab.kernel.comms.open(id);\n",
              "      // Send a message to notify the kernel that we're ready.\n",
              "      channel.send({})\n",
              "\n",
              "      for await (const message of channel.messages) {\n",
              "        // Send a message to notify the kernel that we're ready.\n",
              "        channel.send({})\n",
              "        if (message.buffers) {\n",
              "          for (const buffer of message.buffers) {\n",
              "            buffers.push(buffer);\n",
              "            downloaded += buffer.byteLength;\n",
              "            progress.value = downloaded;\n",
              "          }\n",
              "        }\n",
              "      }\n",
              "      const blob = new Blob(buffers, {type: 'application/binary'});\n",
              "      const a = document.createElement('a');\n",
              "      a.href = window.URL.createObjectURL(blob);\n",
              "      a.download = filename;\n",
              "      div.appendChild(a);\n",
              "      a.click();\n",
              "      div.remove();\n",
              "    }\n",
              "  "
            ]
          },
          "metadata": {}
        },
        {
          "output_type": "display_data",
          "data": {
            "text/plain": [
              "<IPython.core.display.Javascript object>"
            ],
            "application/javascript": [
              "download(\"download_c17e3106-a75a-4d0d-98b9-b19681b609d9\", \"y_test.npy\", 663732)"
            ]
          },
          "metadata": {}
        },
        {
          "output_type": "display_data",
          "data": {
            "text/plain": [
              "<IPython.core.display.Javascript object>"
            ],
            "application/javascript": [
              "\n",
              "    async function download(id, filename, size) {\n",
              "      if (!google.colab.kernel.accessAllowed) {\n",
              "        return;\n",
              "      }\n",
              "      const div = document.createElement('div');\n",
              "      const label = document.createElement('label');\n",
              "      label.textContent = `Downloading \"${filename}\": `;\n",
              "      div.appendChild(label);\n",
              "      const progress = document.createElement('progress');\n",
              "      progress.max = size;\n",
              "      div.appendChild(progress);\n",
              "      document.body.appendChild(div);\n",
              "\n",
              "      const buffers = [];\n",
              "      let downloaded = 0;\n",
              "\n",
              "      const channel = await google.colab.kernel.comms.open(id);\n",
              "      // Send a message to notify the kernel that we're ready.\n",
              "      channel.send({})\n",
              "\n",
              "      for await (const message of channel.messages) {\n",
              "        // Send a message to notify the kernel that we're ready.\n",
              "        channel.send({})\n",
              "        if (message.buffers) {\n",
              "          for (const buffer of message.buffers) {\n",
              "            buffers.push(buffer);\n",
              "            downloaded += buffer.byteLength;\n",
              "            progress.value = downloaded;\n",
              "          }\n",
              "        }\n",
              "      }\n",
              "      const blob = new Blob(buffers, {type: 'application/binary'});\n",
              "      const a = document.createElement('a');\n",
              "      a.href = window.URL.createObjectURL(blob);\n",
              "      a.download = filename;\n",
              "      div.appendChild(a);\n",
              "      a.click();\n",
              "      div.remove();\n",
              "    }\n",
              "  "
            ]
          },
          "metadata": {}
        },
        {
          "output_type": "display_data",
          "data": {
            "text/plain": [
              "<IPython.core.display.Javascript object>"
            ],
            "application/javascript": [
              "download(\"download_f670fb43-ed06-499f-b68b-30529b5f9a4b\", \"y_train.npy\", 2654532)"
            ]
          },
          "metadata": {}
        }
      ]
    },
    {
      "cell_type": "markdown",
      "source": [
        "---\n",
        "\n",
        "_This notebook was created and authored by Ramya Vijayalayan for educational and portfolio use only._  \n",
        "© 2025 Ramya | [github portfolio](https://github.com/ramyavijayalayan10)"
      ],
      "metadata": {
        "id": "BhQmF0rNcuUO"
      }
    }
  ],
  "metadata": {
    "colab": {
      "provenance": []
    },
    "kernelspec": {
      "display_name": "Python 3",
      "name": "python3"
    },
    "language_info": {
      "name": "python"
    }
  },
  "nbformat": 4,
  "nbformat_minor": 0
}